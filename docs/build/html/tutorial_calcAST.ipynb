{
 "cells": [
  {
   "cell_type": "markdown",
   "metadata": {},
   "source": [
    "# 3. Examples for apatite saturation temperature (AST) calculation"
   ]
  },
  {
   "cell_type": "markdown",
   "metadata": {},
   "source": [
    "### Calculate apatite saturation temperature\n",
    "The apatite saturation temperature is calculated using the empirical equation of Harrison & Watson (1984)  https://doi.org/10.1016/0016-7037(84)90403-4"
   ]
  },
  {
   "cell_type": "code",
   "execution_count": 1,
   "metadata": {},
   "outputs": [],
   "source": [
    "import pyAp.ApSatTemp as calc_AST"
   ]
  },
  {
   "cell_type": "markdown",
   "metadata": {},
   "source": [
    "#### Inputs are SiO$_{2}$ and P$_{2}$O$_{5}$ concentrations in the melt. \n",
    "Note that concetrations are in weight percent (between 0 and 100) instead of mass fractions (=concentration wt/100; between 0 and 1). \n",
    "\n",
    "When mass fractions are used for calculation: "
   ]
  },
  {
   "cell_type": "code",
   "execution_count": 2,
   "metadata": {},
   "outputs": [
    {
     "name": "stdout",
     "output_type": "stream",
     "text": [
      ">> Warning: Concentrations are expressed as mass fractions. \n",
      " Multiply them by 100 to convert into percentage!\n"
     ]
    },
    {
     "data": {
      "text/plain": [
       "nan"
      ]
     },
     "execution_count": 2,
     "metadata": {},
     "output_type": "execute_result"
    }
   ],
   "source": [
    "calc_AST.AST(0.55,0.003)"
   ]
  },
  {
   "cell_type": "markdown",
   "metadata": {},
   "source": [
    "When wt% concentrations are used for calculation:"
   ]
  },
  {
   "cell_type": "code",
   "execution_count": 3,
   "metadata": {},
   "outputs": [
    {
     "data": {
      "text/plain": [
       "849.3629335400316"
      ]
     },
     "execution_count": 3,
     "metadata": {},
     "output_type": "execute_result"
    }
   ],
   "source": [
    "calc_AST.AST(55,0.3)"
   ]
  }
 ],
 "metadata": {
  "interpreter": {
   "hash": "567f84e64c80370d0be2865da5fab130ada5e27558a33e3ef552b38e670b6780"
  },
  "kernelspec": {
   "display_name": "Python 3.8.5 ('base')",
   "language": "python",
   "name": "python3"
  },
  "language_info": {
   "codemirror_mode": {
    "name": "ipython",
    "version": 3
   },
   "file_extension": ".py",
   "mimetype": "text/x-python",
   "name": "python",
   "nbconvert_exporter": "python",
   "pygments_lexer": "ipython3",
   "version": "3.9.6"
  }
 },
 "nbformat": 4,
 "nbformat_minor": 2
}
