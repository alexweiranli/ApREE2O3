{
 "cells": [
  {
   "cell_type": "markdown",
   "metadata": {},
   "source": [
    "# 2. Stoichiometry calculation and ternary plot of apatite"
   ]
  },
  {
   "cell_type": "markdown",
   "metadata": {},
   "source": [
    "pyAp supports stoichiometry calculations for F, Cl, and OH-apatite with the built-in functions `ApStoic.py` and `ApStoic_Ketcham.py`.  \n",
    "The stoichiometry calculation method was adapted from Ketcham (2015) https://doi.org/10.2138/am-2015-5171  \n",
    "The results can be plotted in the F-Cl-OH ternary diagram by calling functions in `ApThernary.py`.  \n",
    "Below we show an example of stoichiometry calculation  and visualize the results in a ternary diagram."
   ]
  },
  {
   "cell_type": "markdown",
   "metadata": {},
   "source": [
    "### Import modules\n",
    "\n",
    "import releavant modules."
   ]
  },
  {
   "cell_type": "code",
   "execution_count": 1,
   "metadata": {},
   "outputs": [],
   "source": [
    "import matplotlib.pyplot as plt, pandas as pd, math\n",
    "from pyAp.ApStoic import stoi_\n",
    "from pyAp import ApTernary"
   ]
  },
  {
   "cell_type": "markdown",
   "metadata": {},
   "source": [
    "### Import data "
   ]
  },
  {
   "cell_type": "code",
   "execution_count": 2,
   "metadata": {},
   "outputs": [],
   "source": [
    "data = pd.read_excel('data_ap_major_volatile.xlsx')"
   ]
  },
  {
   "cell_type": "markdown",
   "metadata": {},
   "source": [
    "The stoichiometry calculation allows users to choose oxygen number 26 for F- or Cl-apatite or 25 for OH-apatite by assigning an instance to the `assume_oxy` in the `stoi_()`. If no value is assigned, the default will be 26."
   ]
  },
  {
   "cell_type": "code",
   "execution_count": 3,
   "metadata": {},
   "outputs": [
    {
     "data": {
      "text/html": [
       "<div>\n",
       "<style scoped>\n",
       "    .dataframe tbody tr th:only-of-type {\n",
       "        vertical-align: middle;\n",
       "    }\n",
       "\n",
       "    .dataframe tbody tr th {\n",
       "        vertical-align: top;\n",
       "    }\n",
       "\n",
       "    .dataframe thead th {\n",
       "        text-align: right;\n",
       "    }\n",
       "</style>\n",
       "<table border=\"1\" class=\"dataframe\">\n",
       "  <thead>\n",
       "    <tr style=\"text-align: right;\">\n",
       "      <th></th>\n",
       "      <th>SI</th>\n",
       "      <th>TI</th>\n",
       "      <th>AL</th>\n",
       "      <th>FE</th>\n",
       "      <th>CA</th>\n",
       "      <th>MG</th>\n",
       "      <th>MN</th>\n",
       "      <th>K</th>\n",
       "      <th>NA</th>\n",
       "      <th>P</th>\n",
       "      <th>S</th>\n",
       "      <th>C</th>\n",
       "      <th>XF</th>\n",
       "      <th>XCL</th>\n",
       "      <th>XOH</th>\n",
       "      <th>CE</th>\n",
       "      <th>SR</th>\n",
       "      <th>stoi,(Ca/P-5/3)/(5/3)*100%</th>\n",
       "      <th>sample</th>\n",
       "    </tr>\n",
       "  </thead>\n",
       "  <tbody>\n",
       "    <tr>\n",
       "      <th>0</th>\n",
       "      <td>0.017412</td>\n",
       "      <td>0.013097</td>\n",
       "      <td>0.020520</td>\n",
       "      <td>0.014561</td>\n",
       "      <td>10.072936</td>\n",
       "      <td>0.025958</td>\n",
       "      <td>0.014746</td>\n",
       "      <td>0.022210</td>\n",
       "      <td>0.033756</td>\n",
       "      <td>5.895973</td>\n",
       "      <td>0.026133</td>\n",
       "      <td>0.002377</td>\n",
       "      <td>0.825950</td>\n",
       "      <td>0.073766</td>\n",
       "      <td>0.100284</td>\n",
       "      <td>0.012748</td>\n",
       "      <td>0.010095</td>\n",
       "      <td>3.656599</td>\n",
       "      <td>Ap1</td>\n",
       "    </tr>\n",
       "    <tr>\n",
       "      <th>1</th>\n",
       "      <td>0.017514</td>\n",
       "      <td>0.013175</td>\n",
       "      <td>0.020641</td>\n",
       "      <td>0.014647</td>\n",
       "      <td>10.132331</td>\n",
       "      <td>0.026111</td>\n",
       "      <td>0.014833</td>\n",
       "      <td>0.022341</td>\n",
       "      <td>0.033955</td>\n",
       "      <td>5.930739</td>\n",
       "      <td>0.026287</td>\n",
       "      <td>0.002391</td>\n",
       "      <td>0.692350</td>\n",
       "      <td>0.059361</td>\n",
       "      <td>0.248289</td>\n",
       "      <td>0.012823</td>\n",
       "      <td>0.010155</td>\n",
       "      <td>3.656599</td>\n",
       "      <td>Ap2</td>\n",
       "    </tr>\n",
       "    <tr>\n",
       "      <th>2</th>\n",
       "      <td>0.017419</td>\n",
       "      <td>0.013103</td>\n",
       "      <td>0.020528</td>\n",
       "      <td>0.014567</td>\n",
       "      <td>10.077123</td>\n",
       "      <td>0.025968</td>\n",
       "      <td>0.014752</td>\n",
       "      <td>0.022219</td>\n",
       "      <td>0.033770</td>\n",
       "      <td>5.898424</td>\n",
       "      <td>0.026144</td>\n",
       "      <td>0.002378</td>\n",
       "      <td>0.771207</td>\n",
       "      <td>0.118075</td>\n",
       "      <td>0.110718</td>\n",
       "      <td>0.012753</td>\n",
       "      <td>0.010100</td>\n",
       "      <td>3.656599</td>\n",
       "      <td>Ap3</td>\n",
       "    </tr>\n",
       "  </tbody>\n",
       "</table>\n",
       "</div>"
      ],
      "text/plain": [
       "         SI        TI        AL        FE         CA        MG        MN  \\\n",
       "0  0.017412  0.013097  0.020520  0.014561  10.072936  0.025958  0.014746   \n",
       "1  0.017514  0.013175  0.020641  0.014647  10.132331  0.026111  0.014833   \n",
       "2  0.017419  0.013103  0.020528  0.014567  10.077123  0.025968  0.014752   \n",
       "\n",
       "          K        NA         P         S         C        XF       XCL  \\\n",
       "0  0.022210  0.033756  5.895973  0.026133  0.002377  0.825950  0.073766   \n",
       "1  0.022341  0.033955  5.930739  0.026287  0.002391  0.692350  0.059361   \n",
       "2  0.022219  0.033770  5.898424  0.026144  0.002378  0.771207  0.118075   \n",
       "\n",
       "        XOH        CE        SR  stoi,(Ca/P-5/3)/(5/3)*100% sample  \n",
       "0  0.100284  0.012748  0.010095                    3.656599    Ap1  \n",
       "1  0.248289  0.012823  0.010155                    3.656599    Ap2  \n",
       "2  0.110718  0.012753  0.010100                    3.656599    Ap3  "
      ]
     },
     "execution_count": 3,
     "metadata": {},
     "output_type": "execute_result"
    }
   ],
   "source": [
    "results_stoi = stoi_(data,assume_oxy = 26) \n",
    "results_stoi"
   ]
  },
  {
   "cell_type": "markdown",
   "metadata": {},
   "source": [
    "However, if the oxygen numbers are not determined, users can still use the `stoi_ketcham()` function in `ApStoic_Ketcham.py` to calculate oxygen numbers based on the apatite compositions.  \n",
    "\n",
    "First import the `ApStoic_ketcham` module"
   ]
  },
  {
   "cell_type": "code",
   "execution_count": 4,
   "metadata": {},
   "outputs": [],
   "source": [
    "from pyAp.ApStoic_Ketcham import stoi_ketcham"
   ]
  },
  {
   "cell_type": "markdown",
   "metadata": {},
   "source": [
    "assign the data to the `stoi_ketcham()`"
   ]
  },
  {
   "cell_type": "code",
   "execution_count": 5,
   "metadata": {},
   "outputs": [
    {
     "data": {
      "text/html": [
       "<div>\n",
       "<style scoped>\n",
       "    .dataframe tbody tr th:only-of-type {\n",
       "        vertical-align: middle;\n",
       "    }\n",
       "\n",
       "    .dataframe tbody tr th {\n",
       "        vertical-align: top;\n",
       "    }\n",
       "\n",
       "    .dataframe thead th {\n",
       "        text-align: right;\n",
       "    }\n",
       "</style>\n",
       "<table border=\"1\" class=\"dataframe\">\n",
       "  <thead>\n",
       "    <tr style=\"text-align: right;\">\n",
       "      <th></th>\n",
       "      <th>SI</th>\n",
       "      <th>TI</th>\n",
       "      <th>AL</th>\n",
       "      <th>FE</th>\n",
       "      <th>CA</th>\n",
       "      <th>MG</th>\n",
       "      <th>MN</th>\n",
       "      <th>K</th>\n",
       "      <th>NA</th>\n",
       "      <th>P</th>\n",
       "      <th>S</th>\n",
       "      <th>C</th>\n",
       "      <th>XF</th>\n",
       "      <th>XCL</th>\n",
       "      <th>XOH</th>\n",
       "      <th>CE</th>\n",
       "      <th>SR</th>\n",
       "      <th>OXYGEN NUMBER</th>\n",
       "      <th>stoi,(Ca/P-5/3)/(5/3)*100%</th>\n",
       "      <th>sample</th>\n",
       "    </tr>\n",
       "  </thead>\n",
       "  <tbody>\n",
       "    <tr>\n",
       "      <th>0</th>\n",
       "      <td>0.017342</td>\n",
       "      <td>0.013045</td>\n",
       "      <td>0.020438</td>\n",
       "      <td>0.014503</td>\n",
       "      <td>10.032691</td>\n",
       "      <td>0.025854</td>\n",
       "      <td>0.014687</td>\n",
       "      <td>0.022121</td>\n",
       "      <td>0.033621</td>\n",
       "      <td>5.872417</td>\n",
       "      <td>0.026028</td>\n",
       "      <td>0.002367</td>\n",
       "      <td>0.822650</td>\n",
       "      <td>0.073471</td>\n",
       "      <td>0.103879</td>\n",
       "      <td>0.012697</td>\n",
       "      <td>0.010055</td>\n",
       "      <td>25.896121</td>\n",
       "      <td>3.656599</td>\n",
       "      <td>Ap1</td>\n",
       "    </tr>\n",
       "    <tr>\n",
       "      <th>1</th>\n",
       "      <td>0.017342</td>\n",
       "      <td>0.013045</td>\n",
       "      <td>0.020438</td>\n",
       "      <td>0.014503</td>\n",
       "      <td>10.032691</td>\n",
       "      <td>0.025854</td>\n",
       "      <td>0.014687</td>\n",
       "      <td>0.022121</td>\n",
       "      <td>0.033621</td>\n",
       "      <td>5.872417</td>\n",
       "      <td>0.026028</td>\n",
       "      <td>0.002367</td>\n",
       "      <td>0.685542</td>\n",
       "      <td>0.058777</td>\n",
       "      <td>0.255681</td>\n",
       "      <td>0.012697</td>\n",
       "      <td>0.010055</td>\n",
       "      <td>25.744319</td>\n",
       "      <td>3.656599</td>\n",
       "      <td>Ap2</td>\n",
       "    </tr>\n",
       "    <tr>\n",
       "      <th>2</th>\n",
       "      <td>0.017342</td>\n",
       "      <td>0.013045</td>\n",
       "      <td>0.020438</td>\n",
       "      <td>0.014503</td>\n",
       "      <td>10.032691</td>\n",
       "      <td>0.025854</td>\n",
       "      <td>0.014687</td>\n",
       "      <td>0.022121</td>\n",
       "      <td>0.033621</td>\n",
       "      <td>5.872417</td>\n",
       "      <td>0.026028</td>\n",
       "      <td>0.002367</td>\n",
       "      <td>0.767807</td>\n",
       "      <td>0.117554</td>\n",
       "      <td>0.114639</td>\n",
       "      <td>0.012697</td>\n",
       "      <td>0.010055</td>\n",
       "      <td>25.885361</td>\n",
       "      <td>3.656599</td>\n",
       "      <td>Ap3</td>\n",
       "    </tr>\n",
       "  </tbody>\n",
       "</table>\n",
       "</div>"
      ],
      "text/plain": [
       "         SI        TI        AL        FE         CA        MG        MN  \\\n",
       "0  0.017342  0.013045  0.020438  0.014503  10.032691  0.025854  0.014687   \n",
       "1  0.017342  0.013045  0.020438  0.014503  10.032691  0.025854  0.014687   \n",
       "2  0.017342  0.013045  0.020438  0.014503  10.032691  0.025854  0.014687   \n",
       "\n",
       "          K        NA         P         S         C        XF       XCL  \\\n",
       "0  0.022121  0.033621  5.872417  0.026028  0.002367  0.822650  0.073471   \n",
       "1  0.022121  0.033621  5.872417  0.026028  0.002367  0.685542  0.058777   \n",
       "2  0.022121  0.033621  5.872417  0.026028  0.002367  0.767807  0.117554   \n",
       "\n",
       "        XOH        CE        SR  OXYGEN NUMBER  stoi,(Ca/P-5/3)/(5/3)*100%  \\\n",
       "0  0.103879  0.012697  0.010055      25.896121                    3.656599   \n",
       "1  0.255681  0.012697  0.010055      25.744319                    3.656599   \n",
       "2  0.114639  0.012697  0.010055      25.885361                    3.656599   \n",
       "\n",
       "  sample  \n",
       "0    Ap1  \n",
       "1    Ap2  \n",
       "2    Ap3  "
      ]
     },
     "execution_count": 5,
     "metadata": {},
     "output_type": "execute_result"
    }
   ],
   "source": [
    "results_ketc = stoi_ketcham(data)\n",
    "results_ketc"
   ]
  },
  {
   "cell_type": "markdown",
   "metadata": {},
   "source": [
    "The calculated oxygen number should fall within 25 to 26."
   ]
  },
  {
   "cell_type": "code",
   "execution_count": 6,
   "metadata": {},
   "outputs": [
    {
     "data": {
      "text/plain": [
       "0    25.896121\n",
       "1    25.744319\n",
       "2    25.885361\n",
       "Name: OXYGEN NUMBER, dtype: float64"
      ]
     },
     "execution_count": 6,
     "metadata": {},
     "output_type": "execute_result"
    }
   ],
   "source": [
    "results_ketc['OXYGEN NUMBER']"
   ]
  },
  {
   "cell_type": "markdown",
   "metadata": {},
   "source": [
    "To check the calculation, the sum of calculated F, Cl and OH fraction should be 1."
   ]
  },
  {
   "cell_type": "code",
   "execution_count": 7,
   "metadata": {},
   "outputs": [
    {
     "data": {
      "text/plain": [
       "0    1.0\n",
       "1    1.0\n",
       "2    1.0\n",
       "dtype: float64"
      ]
     },
     "execution_count": 7,
     "metadata": {},
     "output_type": "execute_result"
    }
   ],
   "source": [
    "results_stoi['XF'] + results_stoi['XCL'] + results_stoi['XOH'] "
   ]
  },
  {
   "cell_type": "markdown",
   "metadata": {},
   "source": [
    "### Ternary plot\n",
    "Choose the data you would like to plot in ternary diagram"
   ]
  },
  {
   "cell_type": "markdown",
   "metadata": {},
   "source": [
    "If you have calculated F-Cl-OH mole fractions from lines above"
   ]
  },
  {
   "cell_type": "code",
   "execution_count": 8,
   "metadata": {},
   "outputs": [
    {
     "data": {
      "image/png": "[encoded data removed]",
      "text/plain": [
       "<Figure size 504x432 with 1 Axes>"
      ]
     },
     "metadata": {
      "needs_background": "light"
     },
     "output_type": "display_data"
    }
   ],
   "source": [
    "# set up a figure for ternary plot\n",
    "fig1 = plt.figure()\n",
    "fig1.set_size_inches(7, 6)\n",
    "\n",
    "# plot ternary (w/o data)  \n",
    "ApTernary.ternary(fig1)\n",
    "\n",
    "for idx, value in results_stoi.iterrows():\n",
    "\n",
    "    x_f = value['XF']\n",
    "    x_cl = value['XCL']\n",
    "    x = (x_f + x_cl/2) * 100\n",
    "    y = x_cl*math.sqrt(3)*50\n",
    "\n",
    "    if x > 100:\n",
    "        x = 100\n",
    "    if y > math.sqrt(3)*50:\n",
    "        y = math.sqrt(3)*50\n",
    "        \n",
    "    plt.plot(x,y,'o',label=value['sample'])\n",
    "\n",
    "plt.legend(loc='best')\n",
    "plt.show()"
   ]
  },
  {
   "cell_type": "markdown",
   "metadata": {},
   "source": [
    "Or you have known F-Cl-OH mole fractions and they are in excel file"
   ]
  },
  {
   "cell_type": "code",
   "execution_count": 9,
   "metadata": {},
   "outputs": [],
   "source": [
    "df = pd.read_excel('data_calc_water.xlsx')"
   ]
  },
  {
   "cell_type": "code",
   "execution_count": 10,
   "metadata": {},
   "outputs": [
    {
     "data": {
      "image/png": "[encoded data removed]",
      "text/plain": [
       "<Figure size 504x432 with 1 Axes>"
      ]
     },
     "metadata": {
      "needs_background": "light"
     },
     "output_type": "display_data"
    }
   ],
   "source": [
    "fig2 = plt.figure()\n",
    "fig2.set_size_inches(7, 6)\n",
    "\n",
    "# plot ternary (w/o data)  \n",
    "ApTernary.ternary(fig2)\n",
    "for idx, value in df.iterrows():\n",
    "\n",
    "    x_f = value['XF']\n",
    "    x_cl = value['XCL']\n",
    "    x = (x_f + x_cl/2) * 100\n",
    "    y = x_cl*math.sqrt(3)*50\n",
    "\n",
    "    if x > 100:\n",
    "        x = 100\n",
    "    if y > math.sqrt(3)*50:\n",
    "        y = math.sqrt(3)*50\n",
    "        \n",
    "    plt.plot(x,y,'o',label=value['sample'])\n",
    "\n",
    "plt.legend(loc='best')\n",
    "plt.show()"
   ]
  }
 ],
 "metadata": {
  "interpreter": {
   "hash": "dbfc26f88d4be79d14d7fd08a335d9cb9196b9d1da0cd3f4e161d45a5650b80a"
  },
  "kernelspec": {
   "display_name": "Python 3.9.6 64-bit ('base': conda)",
   "language": "python",
   "name": "python3"
  },
  "language_info": {
   "codemirror_mode": {
    "name": "ipython",
    "version": 3
   },
   "file_extension": ".py",
   "mimetype": "text/x-python",
   "name": "python",
   "nbconvert_exporter": "python",
   "pygments_lexer": "ipython3",
   "version": "3.9.6"
  }
 },
 "nbformat": 4,
 "nbformat_minor": 2
}
