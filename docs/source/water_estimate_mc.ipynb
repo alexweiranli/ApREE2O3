{
 "cells": [
  {
   "cell_type": "markdown",
   "metadata": {},
   "source": [
    "# pyAp - Calculating apatite-melt exchange coefficients (Kd) and melt water concentration "
   ]
  },
  {
   "cell_type": "markdown",
   "metadata": {},
   "source": [
    "pyAp includes the melt hygrometry model `ApThermo` of Li and Costa (2020, GCA) with equations provided in `pyApThermo.py`.\n",
    "\n",
    "Applying this model requires known F, Cl (and H<sub>2</sub>O) concentrations in apatite, and the F and Cl concentration in the melt (in equilibrium with apatite). \n",
    "\n",
    "This example file includes error estimation for the calculated water estimates using a monte carlo simuation algorithm, which is not available in our ApThermo webpage or excel versions.  \n",
    "\n",
    "Please cite Li and Costa (2020) if you use this model:\n",
    "\n",
    " Li, W. & Costa, F. (2020) A thermodynamic model for F-Cl-OH partitioning between apatite and melt including non-ideal mixing and applications to constraining melt volatile budgets, Geochimica et Cosmochimica Acta 269, 203–222. https://doi.org/10.1016/j.gca.2019.10.035"
   ]
  },
  {
   "cell_type": "markdown",
   "metadata": {},
   "source": [
    "### 1. Import modules\n",
    "\n",
    "import releavant modules."
   ]
  },
  {
   "cell_type": "code",
   "execution_count": 1,
   "metadata": {},
   "outputs": [],
   "source": [
    "import os, sys\n",
    "# hack to allow scripts to be placed in subdirectories next to pyAp:\n",
    "if not os.path.exists('pyAp') and os.path.exists('../pyAp'):\n",
    "    sys.path.insert(1, os.path.abspath('..'))\n",
    "from pathlib import Path\n",
    "import math, random, pandas as pd, numpy as np, matplotlib.pyplot as plt, seaborn as sns\n",
    "import warnings    "
   ]
  },
  {
   "cell_type": "code",
   "execution_count": 2,
   "metadata": {},
   "outputs": [],
   "source": [
    "# Import pyAp modules\n",
    "from pyAp import pyApthermo\n",
    "from pyAp.pyAp_tools import ap_mc, load_animation"
   ]
  },
  {
   "cell_type": "markdown",
   "metadata": {},
   "source": [
    "### 2. Import data \n",
    "\n",
    "import from the directory where the input `calc_water.xlsx` file is. The path identification method below works for mac, linux, windows.\n",
    "\n",
    "\n",
    "**!! Do NOT change the column header names in the template provided in the \"input\" folder.**"
   ]
  },
  {
   "cell_type": "code",
   "execution_count": 3,
   "metadata": {},
   "outputs": [],
   "source": [
    "folder = Path(os.path.dirname(os.getcwd())+'/input/4ApThermo/')\n",
    "df = pd.read_excel(folder / 'calc_water.xlsx')"
   ]
  },
  {
   "cell_type": "markdown",
   "metadata": {},
   "source": [
    "extract parameters from the input data file by reading columm header names"
   ]
  },
  {
   "cell_type": "code",
   "execution_count": 4,
   "metadata": {},
   "outputs": [],
   "source": [
    "order  = ['XF', 'XCL', 'T,C', 'MELTF', 'MELTCL', 'MELTCOMP']\n",
    "data = df[order] "
   ]
  },
  {
   "cell_type": "markdown",
   "metadata": {},
   "source": [
    "### 3. calculate H<sub>2</sub>O in the melt from F and Cl in the apatite\n",
    "\n",
    "You can use the `apply()` function shown below for calculation using parameters in each row in the input DataFrame. \n",
    "\n",
    "To perform the calculation, we pass input data into the `Apthermo` class in `pyApthermo.py` (in pyAp folder). \n",
    "\n",
    "The water speciation model used in calculation is chosen from the available models according to the melt composition `MELTCOMPF` provided by users. \n",
    "\n",
    "The available water speciation models we have compiled are available in \"pyAp/`water_speciation.csv`\" and also implemented in `pyApThermo.py`.\n",
    "\n",
    "If you would like to use another water speciation model, please contact us."
   ]
  },
  {
   "cell_type": "code",
   "execution_count": 5,
   "metadata": {},
   "outputs": [],
   "source": [
    "path = Path(os.path.dirname(os.getcwd())+'/pyAp/')\n",
    "wat_spe_m = pd.read_csv(path / 'water_speciation.csv')"
   ]
  },
  {
   "cell_type": "markdown",
   "metadata": {},
   "source": [
    "**Note the melt compositions you put in your input data file for each crystal have to one of the names listed in the `MeltComp` column below**. Otherwise, the calculation will take the default model for \"dacite\" of Liu et al. (2004)."
   ]
  },
  {
   "cell_type": "code",
   "execution_count": 6,
   "metadata": {},
   "outputs": [
    {
     "data": {
      "text/html": [
       "<div>\n",
       "<style scoped>\n",
       "    .dataframe tbody tr th:only-of-type {\n",
       "        vertical-align: middle;\n",
       "    }\n",
       "\n",
       "    .dataframe tbody tr th {\n",
       "        vertical-align: top;\n",
       "    }\n",
       "\n",
       "    .dataframe thead th {\n",
       "        text-align: right;\n",
       "    }\n",
       "</style>\n",
       "<table border=\"1\" class=\"dataframe\">\n",
       "  <thead>\n",
       "    <tr style=\"text-align: right;\">\n",
       "      <th></th>\n",
       "      <th>Ref</th>\n",
       "      <th>MeltComp</th>\n",
       "      <th>Pressure, GPa</th>\n",
       "      <th>Temperature, c</th>\n",
       "      <th>MeltH2O(WT)</th>\n",
       "      <th>a</th>\n",
       "      <th>b</th>\n",
       "      <th>(Eq. k2 = exp(a + b/T), T in K</th>\n",
       "    </tr>\n",
       "  </thead>\n",
       "  <tbody>\n",
       "    <tr>\n",
       "      <th>0</th>\n",
       "      <td>Liu et al 2004</td>\n",
       "      <td>dacite</td>\n",
       "      <td>NaN</td>\n",
       "      <td>NaN</td>\n",
       "      <td>1.5-2.5</td>\n",
       "      <td>1.490</td>\n",
       "      <td>-2634.0</td>\n",
       "      <td>NaN</td>\n",
       "    </tr>\n",
       "    <tr>\n",
       "      <th>1</th>\n",
       "      <td>Lasne et al 2010</td>\n",
       "      <td>alkali basalt</td>\n",
       "      <td>NaN</td>\n",
       "      <td>1200</td>\n",
       "      <td>01-Jul</td>\n",
       "      <td>0.641</td>\n",
       "      <td>-2704.4</td>\n",
       "      <td>NaN</td>\n",
       "    </tr>\n",
       "    <tr>\n",
       "      <th>2</th>\n",
       "      <td>Zhang et al 1997</td>\n",
       "      <td>rhyolite</td>\n",
       "      <td>NaN</td>\n",
       "      <td>400-600</td>\n",
       "      <td>≤2.4</td>\n",
       "      <td>1.876</td>\n",
       "      <td>-3100.0</td>\n",
       "      <td>NaN</td>\n",
       "    </tr>\n",
       "    <tr>\n",
       "      <th>3</th>\n",
       "      <td>Hui et al 2008</td>\n",
       "      <td>rhyolite_highP</td>\n",
       "      <td>1.0</td>\n",
       "      <td>350-750</td>\n",
       "      <td>NaN</td>\n",
       "      <td>1.804</td>\n",
       "      <td>-3090.0</td>\n",
       "      <td>NaN</td>\n",
       "    </tr>\n",
       "    <tr>\n",
       "      <th>4</th>\n",
       "      <td>Ni et al 2009</td>\n",
       "      <td>andesite</td>\n",
       "      <td>0.1</td>\n",
       "      <td>NaN</td>\n",
       "      <td>NaN</td>\n",
       "      <td>1.547</td>\n",
       "      <td>-2453.0</td>\n",
       "      <td>NaN</td>\n",
       "    </tr>\n",
       "    <tr>\n",
       "      <th>5</th>\n",
       "      <td>Botcharnikov 2006</td>\n",
       "      <td>andesite_highT</td>\n",
       "      <td>NaN</td>\n",
       "      <td>1100-1300</td>\n",
       "      <td>NaN</td>\n",
       "      <td>2.990</td>\n",
       "      <td>-3650.0</td>\n",
       "      <td>NaN</td>\n",
       "    </tr>\n",
       "  </tbody>\n",
       "</table>\n",
       "</div>"
      ],
      "text/plain": [
       "                 Ref        MeltComp  Pressure, GPa Temperature, c  \\\n",
       "0     Liu et al 2004          dacite            NaN            NaN   \n",
       "1   Lasne et al 2010   alkali basalt            NaN           1200   \n",
       "2   Zhang et al 1997        rhyolite            NaN        400-600   \n",
       "3     Hui et al 2008  rhyolite_highP            1.0        350-750   \n",
       "4      Ni et al 2009        andesite            0.1            NaN   \n",
       "5  Botcharnikov 2006  andesite_highT            NaN      1100-1300   \n",
       "\n",
       "  MeltH2O(WT)      a       b  (Eq. k2 = exp(a + b/T), T in K  \n",
       "0     1.5-2.5  1.490 -2634.0                             NaN  \n",
       "1      01-Jul  0.641 -2704.4                             NaN  \n",
       "2        ≤2.4  1.876 -3100.0                             NaN  \n",
       "3         NaN  1.804 -3090.0                             NaN  \n",
       "4         NaN  1.547 -2453.0                             NaN  \n",
       "5         NaN  2.990 -3650.0                             NaN  "
      ]
     },
     "execution_count": 6,
     "metadata": {},
     "output_type": "execute_result"
    }
   ],
   "source": [
    "wat_spe_m"
   ]
  },
  {
   "cell_type": "markdown",
   "metadata": {},
   "source": [
    "Switch `cal_H2O` to `True` if you would like to calculate melt water contents (default is `False`). \n",
    "\n",
    "This would pass through `meltH2O()` and return 8 results with the following order below: \n",
    "\n",
    "MeltWater calculated from F and Cl,  Kds for OH-Cl, OH-F, Cl-F, and activity coefficient (gamma) of OH, F, and Cl. "
   ]
  },
  {
   "cell_type": "code",
   "execution_count": 7,
   "metadata": {},
   "outputs": [],
   "source": [
    "## create a datafraje for saving results later\n",
    "results = pd.DataFrame(columns = {'MeltWater_F', 'MeltWater_Cl','Kd_OHCl', 'Kd_OHF', 'Kd_ClF', 'gammaOH', 'gammaF', 'gammaCl','sample'})"
   ]
  },
  {
   "cell_type": "code",
   "execution_count": 8,
   "metadata": {},
   "outputs": [
    {
     "data": {
      "text/html": [
       "<div>\n",
       "<style scoped>\n",
       "    .dataframe tbody tr th:only-of-type {\n",
       "        vertical-align: middle;\n",
       "    }\n",
       "\n",
       "    .dataframe tbody tr th {\n",
       "        vertical-align: top;\n",
       "    }\n",
       "\n",
       "    .dataframe thead th {\n",
       "        text-align: right;\n",
       "    }\n",
       "</style>\n",
       "<table border=\"1\" class=\"dataframe\">\n",
       "  <thead>\n",
       "    <tr style=\"text-align: right;\">\n",
       "      <th></th>\n",
       "      <th>Kd_OHF</th>\n",
       "      <th>gammaCl</th>\n",
       "      <th>MeltWater_Cl</th>\n",
       "      <th>gammaOH</th>\n",
       "      <th>MeltWater_F</th>\n",
       "      <th>gammaF</th>\n",
       "      <th>Kd_OHCl</th>\n",
       "      <th>Kd_ClF</th>\n",
       "      <th>sample</th>\n",
       "    </tr>\n",
       "  </thead>\n",
       "  <tbody>\n",
       "    <tr>\n",
       "      <th>0</th>\n",
       "      <td>0.010156</td>\n",
       "      <td>2.359545</td>\n",
       "      <td>2.288177</td>\n",
       "      <td>1.257495</td>\n",
       "      <td>2.454759</td>\n",
       "      <td>1.139724</td>\n",
       "      <td>0.086309</td>\n",
       "      <td>0.117668</td>\n",
       "      <td>Ap1</td>\n",
       "    </tr>\n",
       "    <tr>\n",
       "      <th>1</th>\n",
       "      <td>0.012871</td>\n",
       "      <td>2.572134</td>\n",
       "      <td>0.987179</td>\n",
       "      <td>1.352988</td>\n",
       "      <td>0.943227</td>\n",
       "      <td>1.078508</td>\n",
       "      <td>0.115878</td>\n",
       "      <td>0.111074</td>\n",
       "      <td>Ap2</td>\n",
       "    </tr>\n",
       "    <tr>\n",
       "      <th>2</th>\n",
       "      <td>0.003258</td>\n",
       "      <td>3.393650</td>\n",
       "      <td>1.145976</td>\n",
       "      <td>1.569649</td>\n",
       "      <td>1.872257</td>\n",
       "      <td>1.044885</td>\n",
       "      <td>0.052530</td>\n",
       "      <td>0.062026</td>\n",
       "      <td>Ap3</td>\n",
       "    </tr>\n",
       "  </tbody>\n",
       "</table>\n",
       "</div>"
      ],
      "text/plain": [
       "     Kd_OHF   gammaCl  MeltWater_Cl   gammaOH  MeltWater_F    gammaF  \\\n",
       "0  0.010156  2.359545      2.288177  1.257495     2.454759  1.139724   \n",
       "1  0.012871  2.572134      0.987179  1.352988     0.943227  1.078508   \n",
       "2  0.003258  3.393650      1.145976  1.569649     1.872257  1.044885   \n",
       "\n",
       "    Kd_OHCl    Kd_ClF sample  \n",
       "0  0.086309  0.117668    Ap1  \n",
       "1  0.115878  0.111074    Ap2  \n",
       "2  0.052530  0.062026    Ap3  "
      ]
     },
     "execution_count": 8,
     "metadata": {},
     "output_type": "execute_result"
    }
   ],
   "source": [
    "# default: calculate Kd only\n",
    "list_kd_result = data.apply(lambda row: pyApthermo.ApThermo(inputs=row[order]).Kd(),axis=1)\n",
    "\n",
    "# user defined (example)\n",
    "list_result = data.apply(lambda row: pyApthermo.ApThermo(inputs=row[order],cal_H2O=True,cal_gamma=True).meltH2O(),axis=1)\n",
    "\n",
    "results['MeltWater_F'] = [x[0] for x in list_result]\n",
    "results['MeltWater_Cl'] = [x[1] for x in list_result]\n",
    "results['Kd_OHCl'] = [x[2] for x in list_result]\n",
    "results['Kd_OHF'] = [x[3] for x in list_result]\n",
    "results['Kd_ClF'] = [x[4] for x in list_result]\n",
    "results['gammaOH'] = [x[5] for x in list_result]\n",
    "results['gammaF'] = [x[6] for x in list_result]\n",
    "results['gammaCl'] = [x[7] for x in list_result]\n",
    "results['sample'] = df['sample']\n",
    "\n",
    "results"
   ]
  },
  {
   "cell_type": "markdown",
   "metadata": {},
   "source": [
    "### save results"
   ]
  },
  {
   "cell_type": "code",
   "execution_count": 9,
   "metadata": {},
   "outputs": [],
   "source": [
    "results.to_csv('water_estimates_no_error.csv')"
   ]
  },
  {
   "cell_type": "markdown",
   "metadata": {},
   "source": [
    "### 4. Error integration from monte carlo simulation (MCS)\n",
    "\n",
    "Below we give an example for MCS to integrate analytical errors from melt compositions, apatite composition, and temperature.\n",
    "\n",
    "First, set the entry of MCS (number of runs); **better to be larger than 1000**."
   ]
  },
  {
   "cell_type": "code",
   "execution_count": 10,
   "metadata": {},
   "outputs": [],
   "source": [
    "mc = 1000"
   ]
  },
  {
   "cell_type": "markdown",
   "metadata": {},
   "source": [
    "Create a dataframe for collecting MCS results and extract raw data and their errors."
   ]
  },
  {
   "cell_type": "code",
   "execution_count": 11,
   "metadata": {},
   "outputs": [],
   "source": [
    "ap_mc_collect = pd.DataFrame([])\n",
    "\n",
    "comp = df[['XF', 'XCL', 'T,C', 'MELTF', 'MELTCL']]\n",
    "std = df[['XF_SD', 'XCL_SD', 'T_SD','MELTF_SD', 'MELTCL_SD']]"
   ]
  },
  {
   "cell_type": "markdown",
   "metadata": {},
   "source": [
    "MCS can be perfromed via a loop but that can be rather slow if the dataset is large. \n",
    "\n",
    "Here we use a built-in function `ap_mc()` to vectorize and expand the existing empty dataframe `ap_mc_collect` with MCS results. \n",
    "\n",
    "Feel free to use your own MCS algorithm if you want. "
   ]
  },
  {
   "cell_type": "code",
   "execution_count": 12,
   "metadata": {},
   "outputs": [],
   "source": [
    "for idx in range(len(df)):\n",
    "    df_iter = ap_mc(comp, std, idx, mc)\n",
    "    ap_mc_collect = ap_mc_collect.append(df_iter)\n",
    "\n",
    "ap_mc_collect.columns = comp.columns\n",
    "ap_mc_collect['MELTCOMP'] = df.loc[df.index.repeat(mc)]['MELTCOMP']"
   ]
  },
  {
   "cell_type": "markdown",
   "metadata": {},
   "source": [
    "Apply the `meltH2O()` function to the expanded MCS dataframe. The melt water estimates are saved in the `ap_mc_collect` dataframe. \n",
    "\n",
    "**Note that when MCS has a larger value, a runtime warning might appear.**"
   ]
  },
  {
   "cell_type": "code",
   "execution_count": 13,
   "metadata": {},
   "outputs": [
    {
     "name": "stderr",
     "output_type": "stream",
     "text": [
      "/Users/easonzz/miniforge3/lib/python3.9/site-packages/scipy/optimize/minpack.py:175: RuntimeWarning: The iteration is not making good progress, as measured by the \n",
      "  improvement from the last ten iterations.\n",
      "  warnings.warn(msg, RuntimeWarning)\n"
     ]
    }
   ],
   "source": [
    "ap_mc_collect['zz'] = ap_mc_collect.apply(lambda row: pyApthermo.ApThermo(inputs=row[order], cal_H2O=True,cal_gamma=False).meltH2O(),axis=1)\n",
    "ap_mc_collect['sample'] = df.loc[df.index.repeat(mc)]['sample']\n",
    "\n",
    "results_mc = pd.DataFrame(columns=['MeltWater_F','MeltWater_Cl'])\n",
    "results_mc['MeltWater_F'] = [x[0] for x in ap_mc_collect['zz']]\n",
    "results_mc['MeltWater_Cl'] = [x[1] for x in ap_mc_collect['zz']]\n",
    "\n",
    "results_mc['sample'] = ap_mc_collect.reset_index()['sample']"
   ]
  },
  {
   "cell_type": "markdown",
   "metadata": {},
   "source": [
    "Display MCS results for each crystal"
   ]
  },
  {
   "cell_type": "code",
   "execution_count": 14,
   "metadata": {},
   "outputs": [
    {
     "data": {
      "text/html": [
       "<div>\n",
       "<style scoped>\n",
       "    .dataframe tbody tr th:only-of-type {\n",
       "        vertical-align: middle;\n",
       "    }\n",
       "\n",
       "    .dataframe tbody tr th {\n",
       "        vertical-align: top;\n",
       "    }\n",
       "\n",
       "    .dataframe thead tr th {\n",
       "        text-align: left;\n",
       "    }\n",
       "\n",
       "    .dataframe thead tr:last-of-type th {\n",
       "        text-align: right;\n",
       "    }\n",
       "</style>\n",
       "<table border=\"1\" class=\"dataframe\">\n",
       "  <thead>\n",
       "    <tr>\n",
       "      <th></th>\n",
       "      <th colspan=\"8\" halign=\"left\">MeltWater_F</th>\n",
       "      <th colspan=\"8\" halign=\"left\">MeltWater_Cl</th>\n",
       "    </tr>\n",
       "    <tr>\n",
       "      <th></th>\n",
       "      <th>count</th>\n",
       "      <th>mean</th>\n",
       "      <th>std</th>\n",
       "      <th>min</th>\n",
       "      <th>25%</th>\n",
       "      <th>50%</th>\n",
       "      <th>75%</th>\n",
       "      <th>max</th>\n",
       "      <th>count</th>\n",
       "      <th>mean</th>\n",
       "      <th>std</th>\n",
       "      <th>min</th>\n",
       "      <th>25%</th>\n",
       "      <th>50%</th>\n",
       "      <th>75%</th>\n",
       "      <th>max</th>\n",
       "    </tr>\n",
       "    <tr>\n",
       "      <th>sample</th>\n",
       "      <th></th>\n",
       "      <th></th>\n",
       "      <th></th>\n",
       "      <th></th>\n",
       "      <th></th>\n",
       "      <th></th>\n",
       "      <th></th>\n",
       "      <th></th>\n",
       "      <th></th>\n",
       "      <th></th>\n",
       "      <th></th>\n",
       "      <th></th>\n",
       "      <th></th>\n",
       "      <th></th>\n",
       "      <th></th>\n",
       "      <th></th>\n",
       "    </tr>\n",
       "  </thead>\n",
       "  <tbody>\n",
       "    <tr>\n",
       "      <th>Ap1</th>\n",
       "      <td>1000.0</td>\n",
       "      <td>2.641468</td>\n",
       "      <td>1.097449</td>\n",
       "      <td>7.015439e-01</td>\n",
       "      <td>1.870983</td>\n",
       "      <td>2.428279</td>\n",
       "      <td>3.159759</td>\n",
       "      <td>8.370092</td>\n",
       "      <td>1000.0</td>\n",
       "      <td>2.563614</td>\n",
       "      <td>1.299313</td>\n",
       "      <td>5.687440e-01</td>\n",
       "      <td>1.673592</td>\n",
       "      <td>2.259434</td>\n",
       "      <td>3.083262</td>\n",
       "      <td>10.889081</td>\n",
       "    </tr>\n",
       "    <tr>\n",
       "      <th>Ap2</th>\n",
       "      <td>1000.0</td>\n",
       "      <td>0.977408</td>\n",
       "      <td>0.432934</td>\n",
       "      <td>-5.682004e-16</td>\n",
       "      <td>0.661064</td>\n",
       "      <td>0.925386</td>\n",
       "      <td>1.248780</td>\n",
       "      <td>2.769618</td>\n",
       "      <td>1000.0</td>\n",
       "      <td>1.067422</td>\n",
       "      <td>0.572065</td>\n",
       "      <td>-5.682004e-16</td>\n",
       "      <td>0.655677</td>\n",
       "      <td>0.965297</td>\n",
       "      <td>1.381680</td>\n",
       "      <td>3.967680</td>\n",
       "    </tr>\n",
       "    <tr>\n",
       "      <th>Ap3</th>\n",
       "      <td>1000.0</td>\n",
       "      <td>2.462165</td>\n",
       "      <td>2.253858</td>\n",
       "      <td>-4.300264e-16</td>\n",
       "      <td>0.971582</td>\n",
       "      <td>1.878295</td>\n",
       "      <td>3.302549</td>\n",
       "      <td>15.000000</td>\n",
       "      <td>1000.0</td>\n",
       "      <td>1.554400</td>\n",
       "      <td>1.529550</td>\n",
       "      <td>-4.300264e-16</td>\n",
       "      <td>0.588248</td>\n",
       "      <td>1.149756</td>\n",
       "      <td>2.055913</td>\n",
       "      <td>15.000000</td>\n",
       "    </tr>\n",
       "  </tbody>\n",
       "</table>\n",
       "</div>"
      ],
      "text/plain": [
       "       MeltWater_F                                                        \\\n",
       "             count      mean       std           min       25%       50%   \n",
       "sample                                                                     \n",
       "Ap1         1000.0  2.641468  1.097449  7.015439e-01  1.870983  2.428279   \n",
       "Ap2         1000.0  0.977408  0.432934 -5.682004e-16  0.661064  0.925386   \n",
       "Ap3         1000.0  2.462165  2.253858 -4.300264e-16  0.971582  1.878295   \n",
       "\n",
       "                            MeltWater_Cl                                    \\\n",
       "             75%        max        count      mean       std           min   \n",
       "sample                                                                       \n",
       "Ap1     3.159759   8.370092       1000.0  2.563614  1.299313  5.687440e-01   \n",
       "Ap2     1.248780   2.769618       1000.0  1.067422  0.572065 -5.682004e-16   \n",
       "Ap3     3.302549  15.000000       1000.0  1.554400  1.529550 -4.300264e-16   \n",
       "\n",
       "                                                 \n",
       "             25%       50%       75%        max  \n",
       "sample                                           \n",
       "Ap1     1.673592  2.259434  3.083262  10.889081  \n",
       "Ap2     0.655677  0.965297  1.381680   3.967680  \n",
       "Ap3     0.588248  1.149756  2.055913  15.000000  "
      ]
     },
     "execution_count": 14,
     "metadata": {},
     "output_type": "execute_result"
    }
   ],
   "source": [
    "results_mc.groupby('sample').describe()"
   ]
  },
  {
   "cell_type": "markdown",
   "metadata": {},
   "source": [
    "Calculate the median value for each crystal. \n",
    "\n",
    "If the distribution of MCS results is (nearly) gaussian (see kernel density plot below), a mean value could be used instead of median."
   ]
  },
  {
   "cell_type": "code",
   "execution_count": 15,
   "metadata": {},
   "outputs": [
    {
     "data": {
      "text/html": [
       "<div>\n",
       "<style scoped>\n",
       "    .dataframe tbody tr th:only-of-type {\n",
       "        vertical-align: middle;\n",
       "    }\n",
       "\n",
       "    .dataframe tbody tr th {\n",
       "        vertical-align: top;\n",
       "    }\n",
       "\n",
       "    .dataframe thead th {\n",
       "        text-align: right;\n",
       "    }\n",
       "</style>\n",
       "<table border=\"1\" class=\"dataframe\">\n",
       "  <thead>\n",
       "    <tr style=\"text-align: right;\">\n",
       "      <th></th>\n",
       "      <th>MeltWater_F</th>\n",
       "      <th>MeltWater_Cl</th>\n",
       "    </tr>\n",
       "    <tr>\n",
       "      <th>sample</th>\n",
       "      <th></th>\n",
       "      <th></th>\n",
       "    </tr>\n",
       "  </thead>\n",
       "  <tbody>\n",
       "    <tr>\n",
       "      <th>Ap1</th>\n",
       "      <td>2.428279</td>\n",
       "      <td>2.259434</td>\n",
       "    </tr>\n",
       "    <tr>\n",
       "      <th>Ap2</th>\n",
       "      <td>0.925386</td>\n",
       "      <td>0.965297</td>\n",
       "    </tr>\n",
       "    <tr>\n",
       "      <th>Ap3</th>\n",
       "      <td>1.878295</td>\n",
       "      <td>1.149756</td>\n",
       "    </tr>\n",
       "  </tbody>\n",
       "</table>\n",
       "</div>"
      ],
      "text/plain": [
       "        MeltWater_F  MeltWater_Cl\n",
       "sample                           \n",
       "Ap1        2.428279      2.259434\n",
       "Ap2        0.925386      0.965297\n",
       "Ap3        1.878295      1.149756"
      ]
     },
     "execution_count": 15,
     "metadata": {},
     "output_type": "execute_result"
    }
   ],
   "source": [
    "results_mc.groupby('sample').median()"
   ]
  },
  {
   "cell_type": "markdown",
   "metadata": {},
   "source": [
    "plot MCS results"
   ]
  },
  {
   "cell_type": "code",
   "execution_count": 16,
   "metadata": {},
   "outputs": [
    {
     "data": {
      "image/png": "[encoded data removed]",
      "text/plain": [
       "<Figure size 648x288 with 2 Axes>"
      ]
     },
     "metadata": {
      "needs_background": "light"
     },
     "output_type": "display_data"
    }
   ],
   "source": [
    "fig, axes = plt.subplots(1, 2, figsize=(9,4), constrained_layout=True)\n",
    "\n",
    "sns.kdeplot(x = 'MeltWater_F', data=results_mc, hue='sample', ax = axes[0])\n",
    "sns.kdeplot(x = 'MeltWater_Cl', data=results_mc, hue='sample', ax = axes[1])\n",
    "\n",
    "plt.show()"
   ]
  },
  {
   "cell_type": "markdown",
   "metadata": {},
   "source": [
    "1 $\\sigma$ errors in results can be calculated by taking half of the range between 84% and 16% of all MCS results. "
   ]
  },
  {
   "cell_type": "markdown",
   "metadata": {},
   "source": [
    "melt H<sub>2</sub>O estimated from Cl in the apatite"
   ]
  },
  {
   "cell_type": "code",
   "execution_count": 17,
   "metadata": {},
   "outputs": [
    {
     "name": "stdout",
     "output_type": "stream",
     "text": [
      "[1.15167496 0.51788942 1.10956634]\n"
     ]
    }
   ],
   "source": [
    "errors = results_mc.groupby('sample')['MeltWater_Cl'].transform(lambda s: (np.percentile(s, 84)-np.percentile(s, 16))/2).unique()\n",
    "print(errors)\n",
    "for ii in list(results_mc['sample']):\n",
    "    if len(list(results_mc['sample']))<50:\n",
    "        print(results_mc['sample'][ii],errors[ii])"
   ]
  },
  {
   "cell_type": "markdown",
   "metadata": {},
   "source": [
    "melt H<sub>2</sub>O calculated from F in apatite"
   ]
  },
  {
   "cell_type": "code",
   "execution_count": 18,
   "metadata": {},
   "outputs": [
    {
     "name": "stdout",
     "output_type": "stream",
     "text": [
      "[1.03476596 0.41635992 1.75392207]\n"
     ]
    }
   ],
   "source": [
    "errors = results_mc.groupby('sample')['MeltWater_F'].transform(lambda s: (np.percentile(s, 84)-np.percentile(s, 16))/2).unique()\n",
    "print(errors)\n",
    "for ii in list(results_mc['sample']):\n",
    "    if len(list(results_mc['sample']))<50:\n",
    "        print(results_mc['sample'][ii],errors[ii])"
   ]
  }
 ],
 "metadata": {
  "interpreter": {
   "hash": "dbfc26f88d4be79d14d7fd08a335d9cb9196b9d1da0cd3f4e161d45a5650b80a"
  },
  "kernelspec": {
   "display_name": "Python 3.9.6 64-bit ('base': conda)",
   "language": "python",
   "name": "python3"
  },
  "language_info": {
   "codemirror_mode": {
    "name": "ipython",
    "version": 3
   },
   "file_extension": ".py",
   "mimetype": "text/x-python",
   "name": "python",
   "nbconvert_exporter": "python",
   "pygments_lexer": "ipython3",
   "version": "3.9.6"
  }
 },
 "nbformat": 4,
 "nbformat_minor": 2
}
