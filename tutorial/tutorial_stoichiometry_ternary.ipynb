{
 "cells": [
  {
   "cell_type": "markdown",
   "metadata": {},
   "source": [
    "# 2. Stoichiometry calculation and ternary plot of apatite"
   ]
  },
  {
   "cell_type": "markdown",
   "metadata": {},
   "source": [
    "pyAp allows users to calculate the stoichiometry and mole fractions of components in apatite using functions `ApStoic.py` and `ApStoic_Ketcham.py`.  \n",
    "\n",
    "The stoichiometry calculation method was adapted from Ketcham (2015) https://doi.org/10.2138/am-2015-5171  \n",
    "\n",
    "The results can be plotted in the F-Cl-OH ternary diagram by calling functions in `ApThernary.py`.  See an example below."
   ]
  },
  {
   "cell_type": "markdown",
   "metadata": {},
   "source": [
    "### Import releavant modules and data"
   ]
  },
  {
   "cell_type": "markdown",
   "metadata": {},
   "source": [
    "Import modules"
   ]
  },
  {
   "cell_type": "code",
   "execution_count": 1,
   "metadata": {},
   "outputs": [],
   "source": [
    "import matplotlib.pyplot as plt, pandas as pd, math\n",
    "\n",
    "## use the 3 lines below if you want to use the pyAp codes inthe subdirectory next to the current path\n",
    "## comment them, if you want to use the pyAp installed elsewhere on your computer\n",
    "import os, sys\n",
    "if not os.path.exists('pyAp') and os.path.exists('../pyAp'): # hack to allow scripts to be placed in subdirectories next to pyAp:\n",
    "    sys.path.insert(1, os.path.abspath('..'))\n",
    "\n",
    "## import pyAp modules\n",
    "from pyAp.ApStoic import stoi_\n",
    "from pyAp import ApTernary\n",
    "from pyAp.ApStoic_Ketcham import stoi_ketcham"
   ]
  },
  {
   "cell_type": "markdown",
   "metadata": {},
   "source": [
    "Import data "
   ]
  },
  {
   "cell_type": "code",
   "execution_count": 2,
   "metadata": {},
   "outputs": [],
   "source": [
    "data = pd.read_excel('data_ap_major_volatile.xlsx',sheet_name='Sheet2')"
   ]
  },
  {
   "cell_type": "markdown",
   "metadata": {},
   "source": [
    "### Stoichiometry calculation \n",
    "Use `assume_oxy=26` for F- or Cl-apatite; `assume_oxy=25` for OH-apatite. The default is 26 if no values are assigned. "
   ]
  },
  {
   "cell_type": "code",
   "execution_count": 3,
   "metadata": {},
   "outputs": [
    {
     "data": {
      "text/html": [
       "<div>\n",
       "<style scoped>\n",
       "    .dataframe tbody tr th:only-of-type {\n",
       "        vertical-align: middle;\n",
       "    }\n",
       "\n",
       "    .dataframe tbody tr th {\n",
       "        vertical-align: top;\n",
       "    }\n",
       "\n",
       "    .dataframe thead th {\n",
       "        text-align: right;\n",
       "    }\n",
       "</style>\n",
       "<table border=\"1\" class=\"dataframe\">\n",
       "  <thead>\n",
       "    <tr style=\"text-align: right;\">\n",
       "      <th></th>\n",
       "      <th>CA</th>\n",
       "      <th>TI</th>\n",
       "      <th>AL</th>\n",
       "      <th>FE</th>\n",
       "      <th>MG</th>\n",
       "      <th>MN</th>\n",
       "      <th>K</th>\n",
       "      <th>NA</th>\n",
       "      <th>CE</th>\n",
       "      <th>SR</th>\n",
       "      <th>P</th>\n",
       "      <th>SI</th>\n",
       "      <th>S</th>\n",
       "      <th>C</th>\n",
       "      <th>XF</th>\n",
       "      <th>XCL</th>\n",
       "      <th>XOH</th>\n",
       "      <th>stoi_bias,(Ca/P-5/3)/(5/3)*100%</th>\n",
       "      <th>sample</th>\n",
       "      <th>CAL_H2O(WT%)</th>\n",
       "    </tr>\n",
       "  </thead>\n",
       "  <tbody>\n",
       "    <tr>\n",
       "      <th>0</th>\n",
       "      <td>10.063423</td>\n",
       "      <td>0.0</td>\n",
       "      <td>0.0</td>\n",
       "      <td>0.046444</td>\n",
       "      <td>0.025872</td>\n",
       "      <td>0.029399</td>\n",
       "      <td>0.0</td>\n",
       "      <td>0.037013</td>\n",
       "      <td>0.013978</td>\n",
       "      <td>0.006038</td>\n",
       "      <td>6.064945</td>\n",
       "      <td>0.001735</td>\n",
       "      <td>0.016931</td>\n",
       "      <td>0.0</td>\n",
       "      <td>0.400665</td>\n",
       "      <td>0.172060</td>\n",
       "      <td>0.427275</td>\n",
       "      <td>0.816762</td>\n",
       "      <td>Ap1c</td>\n",
       "      <td>0.738198</td>\n",
       "    </tr>\n",
       "    <tr>\n",
       "      <th>1</th>\n",
       "      <td>9.895894</td>\n",
       "      <td>0.0</td>\n",
       "      <td>0.0</td>\n",
       "      <td>0.046046</td>\n",
       "      <td>0.084643</td>\n",
       "      <td>0.029146</td>\n",
       "      <td>0.0</td>\n",
       "      <td>0.003002</td>\n",
       "      <td>0.012724</td>\n",
       "      <td>0.005986</td>\n",
       "      <td>5.995385</td>\n",
       "      <td>0.044735</td>\n",
       "      <td>0.009942</td>\n",
       "      <td>0.0</td>\n",
       "      <td>0.680179</td>\n",
       "      <td>0.129759</td>\n",
       "      <td>0.190062</td>\n",
       "      <td>-0.059461</td>\n",
       "      <td>Ap2c</td>\n",
       "      <td>0.331212</td>\n",
       "    </tr>\n",
       "    <tr>\n",
       "      <th>2</th>\n",
       "      <td>9.941816</td>\n",
       "      <td>0.0</td>\n",
       "      <td>0.0</td>\n",
       "      <td>0.046156</td>\n",
       "      <td>0.088724</td>\n",
       "      <td>0.029216</td>\n",
       "      <td>0.0</td>\n",
       "      <td>0.026175</td>\n",
       "      <td>0.011839</td>\n",
       "      <td>0.006000</td>\n",
       "      <td>5.981111</td>\n",
       "      <td>0.034010</td>\n",
       "      <td>0.009779</td>\n",
       "      <td>0.0</td>\n",
       "      <td>0.682218</td>\n",
       "      <td>0.124887</td>\n",
       "      <td>0.192895</td>\n",
       "      <td>1.079786</td>\n",
       "      <td>Ap3c</td>\n",
       "      <td>0.335344</td>\n",
       "    </tr>\n",
       "    <tr>\n",
       "      <th>3</th>\n",
       "      <td>9.917455</td>\n",
       "      <td>0.0</td>\n",
       "      <td>0.0</td>\n",
       "      <td>0.046295</td>\n",
       "      <td>0.090046</td>\n",
       "      <td>0.029305</td>\n",
       "      <td>0.0</td>\n",
       "      <td>0.024756</td>\n",
       "      <td>0.015322</td>\n",
       "      <td>0.006019</td>\n",
       "      <td>6.016471</td>\n",
       "      <td>0.045379</td>\n",
       "      <td>0.014583</td>\n",
       "      <td>0.0</td>\n",
       "      <td>0.559375</td>\n",
       "      <td>0.140459</td>\n",
       "      <td>0.300166</td>\n",
       "      <td>0.017858</td>\n",
       "      <td>Ap4c</td>\n",
       "      <td>0.520263</td>\n",
       "    </tr>\n",
       "  </tbody>\n",
       "</table>\n",
       "</div>"
      ],
      "text/plain": [
       "          CA   TI   AL        FE        MG        MN    K        NA        CE  \\\n",
       "0  10.063423  0.0  0.0  0.046444  0.025872  0.029399  0.0  0.037013  0.013978   \n",
       "1   9.895894  0.0  0.0  0.046046  0.084643  0.029146  0.0  0.003002  0.012724   \n",
       "2   9.941816  0.0  0.0  0.046156  0.088724  0.029216  0.0  0.026175  0.011839   \n",
       "3   9.917455  0.0  0.0  0.046295  0.090046  0.029305  0.0  0.024756  0.015322   \n",
       "\n",
       "         SR         P        SI         S    C        XF       XCL       XOH  \\\n",
       "0  0.006038  6.064945  0.001735  0.016931  0.0  0.400665  0.172060  0.427275   \n",
       "1  0.005986  5.995385  0.044735  0.009942  0.0  0.680179  0.129759  0.190062   \n",
       "2  0.006000  5.981111  0.034010  0.009779  0.0  0.682218  0.124887  0.192895   \n",
       "3  0.006019  6.016471  0.045379  0.014583  0.0  0.559375  0.140459  0.300166   \n",
       "\n",
       "   stoi_bias,(Ca/P-5/3)/(5/3)*100% sample  CAL_H2O(WT%)  \n",
       "0                         0.816762   Ap1c      0.738198  \n",
       "1                        -0.059461   Ap2c      0.331212  \n",
       "2                         1.079786   Ap3c      0.335344  \n",
       "3                         0.017858   Ap4c      0.520263  "
      ]
     },
     "execution_count": 3,
     "metadata": {},
     "output_type": "execute_result"
    }
   ],
   "source": [
    "results_stoi = stoi_(data,assume_oxy = 26) \n",
    "results_stoi"
   ]
  },
  {
   "cell_type": "markdown",
   "metadata": {},
   "source": [
    "Use an oxygen number between 25 and 26 using `stoi_ketcham()` function in module `ApStoic_Ketcham.py` "
   ]
  },
  {
   "cell_type": "code",
   "execution_count": 4,
   "metadata": {},
   "outputs": [
    {
     "data": {
      "text/html": [
       "<div>\n",
       "<style scoped>\n",
       "    .dataframe tbody tr th:only-of-type {\n",
       "        vertical-align: middle;\n",
       "    }\n",
       "\n",
       "    .dataframe tbody tr th {\n",
       "        vertical-align: top;\n",
       "    }\n",
       "\n",
       "    .dataframe thead th {\n",
       "        text-align: right;\n",
       "    }\n",
       "</style>\n",
       "<table border=\"1\" class=\"dataframe\">\n",
       "  <thead>\n",
       "    <tr style=\"text-align: right;\">\n",
       "      <th></th>\n",
       "      <th>CA</th>\n",
       "      <th>TI</th>\n",
       "      <th>AL</th>\n",
       "      <th>FE</th>\n",
       "      <th>MG</th>\n",
       "      <th>MN</th>\n",
       "      <th>K</th>\n",
       "      <th>NA</th>\n",
       "      <th>CE</th>\n",
       "      <th>SR</th>\n",
       "      <th>...</th>\n",
       "      <th>SI</th>\n",
       "      <th>S</th>\n",
       "      <th>C</th>\n",
       "      <th>XF</th>\n",
       "      <th>XCL</th>\n",
       "      <th>XOH</th>\n",
       "      <th>stoi_bias,(Ca/P-5/3)/(5/3)*100%</th>\n",
       "      <th>sample</th>\n",
       "      <th>CAL_H2O(WT%)</th>\n",
       "      <th>OXYGEN NUMBER</th>\n",
       "    </tr>\n",
       "  </thead>\n",
       "  <tbody>\n",
       "    <tr>\n",
       "      <th>0</th>\n",
       "      <td>9.894319</td>\n",
       "      <td>0.0</td>\n",
       "      <td>0.0</td>\n",
       "      <td>0.045664</td>\n",
       "      <td>0.025437</td>\n",
       "      <td>0.028905</td>\n",
       "      <td>0.0</td>\n",
       "      <td>0.036391</td>\n",
       "      <td>0.013743</td>\n",
       "      <td>0.005936</td>\n",
       "      <td>...</td>\n",
       "      <td>0.001706</td>\n",
       "      <td>0.016647</td>\n",
       "      <td>0.0</td>\n",
       "      <td>0.393932</td>\n",
       "      <td>0.169168</td>\n",
       "      <td>0.436899</td>\n",
       "      <td>0.816762</td>\n",
       "      <td>Ap1c</td>\n",
       "      <td>0.767726</td>\n",
       "      <td>25.563101</td>\n",
       "    </tr>\n",
       "    <tr>\n",
       "      <th>1</th>\n",
       "      <td>9.821228</td>\n",
       "      <td>0.0</td>\n",
       "      <td>0.0</td>\n",
       "      <td>0.045698</td>\n",
       "      <td>0.084005</td>\n",
       "      <td>0.028926</td>\n",
       "      <td>0.0</td>\n",
       "      <td>0.002980</td>\n",
       "      <td>0.012628</td>\n",
       "      <td>0.005941</td>\n",
       "      <td>...</td>\n",
       "      <td>0.044397</td>\n",
       "      <td>0.009867</td>\n",
       "      <td>0.0</td>\n",
       "      <td>0.675047</td>\n",
       "      <td>0.128780</td>\n",
       "      <td>0.196173</td>\n",
       "      <td>-0.059461</td>\n",
       "      <td>Ap2c</td>\n",
       "      <td>0.344460</td>\n",
       "      <td>25.803827</td>\n",
       "    </tr>\n",
       "    <tr>\n",
       "      <th>2</th>\n",
       "      <td>9.865694</td>\n",
       "      <td>0.0</td>\n",
       "      <td>0.0</td>\n",
       "      <td>0.045803</td>\n",
       "      <td>0.088045</td>\n",
       "      <td>0.028993</td>\n",
       "      <td>0.0</td>\n",
       "      <td>0.025975</td>\n",
       "      <td>0.011749</td>\n",
       "      <td>0.005954</td>\n",
       "      <td>...</td>\n",
       "      <td>0.033750</td>\n",
       "      <td>0.009705</td>\n",
       "      <td>0.0</td>\n",
       "      <td>0.676994</td>\n",
       "      <td>0.123931</td>\n",
       "      <td>0.199075</td>\n",
       "      <td>1.079786</td>\n",
       "      <td>Ap3c</td>\n",
       "      <td>0.348758</td>\n",
       "      <td>25.800925</td>\n",
       "    </tr>\n",
       "    <tr>\n",
       "      <th>3</th>\n",
       "      <td>9.799792</td>\n",
       "      <td>0.0</td>\n",
       "      <td>0.0</td>\n",
       "      <td>0.045746</td>\n",
       "      <td>0.088978</td>\n",
       "      <td>0.028957</td>\n",
       "      <td>0.0</td>\n",
       "      <td>0.024462</td>\n",
       "      <td>0.015140</td>\n",
       "      <td>0.005947</td>\n",
       "      <td>...</td>\n",
       "      <td>0.044841</td>\n",
       "      <td>0.014410</td>\n",
       "      <td>0.0</td>\n",
       "      <td>0.552738</td>\n",
       "      <td>0.138793</td>\n",
       "      <td>0.308469</td>\n",
       "      <td>0.017858</td>\n",
       "      <td>Ap4c</td>\n",
       "      <td>0.541074</td>\n",
       "      <td>25.691531</td>\n",
       "    </tr>\n",
       "  </tbody>\n",
       "</table>\n",
       "<p>4 rows × 21 columns</p>\n",
       "</div>"
      ],
      "text/plain": [
       "         CA   TI   AL        FE        MG        MN    K        NA        CE  \\\n",
       "0  9.894319  0.0  0.0  0.045664  0.025437  0.028905  0.0  0.036391  0.013743   \n",
       "1  9.821228  0.0  0.0  0.045698  0.084005  0.028926  0.0  0.002980  0.012628   \n",
       "2  9.865694  0.0  0.0  0.045803  0.088045  0.028993  0.0  0.025975  0.011749   \n",
       "3  9.799792  0.0  0.0  0.045746  0.088978  0.028957  0.0  0.024462  0.015140   \n",
       "\n",
       "         SR  ...        SI         S    C        XF       XCL       XOH  \\\n",
       "0  0.005936  ...  0.001706  0.016647  0.0  0.393932  0.169168  0.436899   \n",
       "1  0.005941  ...  0.044397  0.009867  0.0  0.675047  0.128780  0.196173   \n",
       "2  0.005954  ...  0.033750  0.009705  0.0  0.676994  0.123931  0.199075   \n",
       "3  0.005947  ...  0.044841  0.014410  0.0  0.552738  0.138793  0.308469   \n",
       "\n",
       "   stoi_bias,(Ca/P-5/3)/(5/3)*100%  sample CAL_H2O(WT%)  OXYGEN NUMBER  \n",
       "0                         0.816762    Ap1c     0.767726      25.563101  \n",
       "1                        -0.059461    Ap2c     0.344460      25.803827  \n",
       "2                         1.079786    Ap3c     0.348758      25.800925  \n",
       "3                         0.017858    Ap4c     0.541074      25.691531  \n",
       "\n",
       "[4 rows x 21 columns]"
      ]
     },
     "execution_count": 4,
     "metadata": {},
     "output_type": "execute_result"
    }
   ],
   "source": [
    "results_ketc = stoi_ketcham(data)\n",
    "results_ketc"
   ]
  },
  {
   "cell_type": "code",
   "execution_count": 5,
   "metadata": {},
   "outputs": [
    {
     "data": {
      "text/plain": [
       "0   -0.029528\n",
       "1   -0.013248\n",
       "2   -0.013414\n",
       "3   -0.020811\n",
       "Name: CAL_H2O(WT%), dtype: float64"
      ]
     },
     "execution_count": 5,
     "metadata": {},
     "output_type": "execute_result"
    }
   ],
   "source": [
    "## difference in H2O concentration calculated using 26 oxygen, and oxygen number between 25 and 26 \n",
    "results_stoi[\"CAL_H2O(WT%)\"]-results_ketc[\"CAL_H2O(WT%)\"]"
   ]
  },
  {
   "cell_type": "markdown",
   "metadata": {},
   "source": [
    "The calculated oxygen number should fall between 25 and 26"
   ]
  },
  {
   "cell_type": "code",
   "execution_count": 6,
   "metadata": {},
   "outputs": [
    {
     "data": {
      "text/plain": [
       "0    25.563101\n",
       "1    25.803827\n",
       "2    25.800925\n",
       "3    25.691531\n",
       "Name: OXYGEN NUMBER, dtype: float64"
      ]
     },
     "execution_count": 6,
     "metadata": {},
     "output_type": "execute_result"
    }
   ],
   "source": [
    "results_ketc['OXYGEN NUMBER']"
   ]
  },
  {
   "cell_type": "markdown",
   "metadata": {},
   "source": [
    "### Plot apatite on F-Cl-OH ternary diagram"
   ]
  },
  {
   "cell_type": "markdown",
   "metadata": {},
   "source": [
    "#### Plot F-Cl-OH mole fractions calculated above"
   ]
  },
  {
   "cell_type": "code",
   "execution_count": 7,
   "metadata": {},
   "outputs": [
    {
     "data": {
      "image/png": "[encoded data removed]",
      "text/plain": [
       "<Figure size 864x432 with 2 Axes>"
      ]
     },
     "metadata": {
      "needs_background": "light"
     },
     "output_type": "display_data"
    }
   ],
   "source": [
    "# set up a figure for ternary plot (e.g. figure with 2 subplots)\n",
    "fig, (ax1, ax2) = plt.subplots(1,2,figsize=(12, 6))\n",
    "\n",
    "# set up blank ternary digram for each axis \n",
    "ApTernary.ternary(ax1)\n",
    "ApTernary.ternary(ax2)\n",
    "\n",
    "for idx, value in results_stoi.iterrows():\n",
    "    x_f = value['XF']\n",
    "    x_cl = value['XCL']\n",
    "    x = (x_f + x_cl/2) * 100\n",
    "    y = x_cl*math.sqrt(3)*50\n",
    "\n",
    "    if x > 100:\n",
    "        x = 100\n",
    "    if y > math.sqrt(3)*50:\n",
    "        y = math.sqrt(3)*50\n",
    "\n",
    "    ax1.plot(x,y,'o',ms=10,label=value['sample'])\n",
    "\n",
    "for idx, value in results_ketc.iterrows():\n",
    "    x_f = value['XF']\n",
    "    x_cl = value['XCL']\n",
    "    x = (x_f + x_cl/2) * 100\n",
    "    y = x_cl*math.sqrt(3)*50\n",
    "\n",
    "    if x > 100:\n",
    "        x = 100\n",
    "    if y > math.sqrt(3)*50:\n",
    "        y = math.sqrt(3)*50\n",
    "\n",
    "    ax2.plot(x,y,'*',ms=10,label=value['sample'])\n",
    "\n",
    "ax1.axis('off')\n",
    "ax1.legend(loc='best')\n",
    "plt.show()\n"
   ]
  },
  {
   "cell_type": "markdown",
   "metadata": {},
   "source": [
    "### save results"
   ]
  },
  {
   "cell_type": "code",
   "execution_count": 8,
   "metadata": {},
   "outputs": [],
   "source": [
    "results_stoi.to_csv(\"stoichiometry_26O.csv\")\n",
    "results_ketc.to_csv(\"stoichiometry_VariedO.csv\")"
   ]
  }
 ],
 "metadata": {
  "kernelspec": {
   "display_name": "Python 3.8.5 ('base')",
   "language": "python",
   "name": "python3"
  },
  "language_info": {
   "codemirror_mode": {
    "name": "ipython",
    "version": 3
   },
   "file_extension": ".py",
   "mimetype": "text/x-python",
   "name": "python",
   "nbconvert_exporter": "python",
   "pygments_lexer": "ipython3",
   "version": "3.8.5"
  },
  "vscode": {
   "interpreter": {
    "hash": "567f84e64c80370d0be2865da5fab130ada5e27558a33e3ef552b38e670b6780"
   }
  }
 },
 "nbformat": 4,
 "nbformat_minor": 2
}
