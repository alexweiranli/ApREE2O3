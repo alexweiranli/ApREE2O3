{
 "cells": [
  {
   "cell_type": "markdown",
   "metadata": {},
   "source": [
    "# 2. Stoichiometry calculation and ternary plot of apatite"
   ]
  },
  {
   "cell_type": "markdown",
   "metadata": {},
   "source": [
    "pyAp allows users to calculate the stoichiometry and mole fractions of components in apatite using functions `ApStoic.py` and `ApStoic_Ketcham.py`.  \n",
    "\n",
    "The stoichiometry calculation method was adapted from Ketcham (2015) https://doi.org/10.2138/am-2015-5171  \n",
    "\n",
    "The results can be plotted in the F-Cl-OH ternary diagram by calling functions in `ApThernary.py`.  See an example below."
   ]
  },
  {
   "cell_type": "markdown",
   "metadata": {},
   "source": [
    "### Import releavant modules and data"
   ]
  },
  {
   "cell_type": "markdown",
   "metadata": {},
   "source": [
    "Import modules"
   ]
  },
  {
   "cell_type": "code",
   "execution_count": 1,
   "metadata": {},
   "outputs": [],
   "source": [
    "import matplotlib.pyplot as plt, pandas as pd, math\n",
    "\n",
    "## use the 3 lines below if you want to use the pyAp codes inthe subdirectory next to the current path\n",
    "## comment them, if you want to use the pyAp installed elsewhere on your computer\n",
    "import os, sys\n",
    "if not os.path.exists('pyAp') and os.path.exists('../pyAp'): # hack to allow scripts to be placed in subdirectories next to pyAp:\n",
    "    sys.path.insert(1, os.path.abspath('..'))\n",
    "\n",
    "## import pyAp modules\n",
    "from pyAp.ApStoic import stoi_\n",
    "from pyAp import ApTernary\n",
    "from pyAp.ApStoic_Ketcham import stoi_ketcham"
   ]
  },
  {
   "cell_type": "markdown",
   "metadata": {},
   "source": [
    "Import data "
   ]
  },
  {
   "cell_type": "code",
   "execution_count": 10,
   "metadata": {},
   "outputs": [],
   "source": [
    "data = pd.read_excel('data_ap_major_volatile.xlsx',sheet_name='Sheet2')"
   ]
  },
  {
   "cell_type": "markdown",
   "metadata": {},
   "source": [
    "### Stoichiometry calculation \n",
    "Use `assume_oxy=26` for F- or Cl-apatite; `assume_oxy=25` for OH-apatite. The default is 26 if no values are assigned. "
   ]
  },
  {
   "cell_type": "code",
   "execution_count": 12,
   "metadata": {},
   "outputs": [
    {
     "data": {
      "text/html": [
       "<div>\n",
       "<style scoped>\n",
       "    .dataframe tbody tr th:only-of-type {\n",
       "        vertical-align: middle;\n",
       "    }\n",
       "\n",
       "    .dataframe tbody tr th {\n",
       "        vertical-align: top;\n",
       "    }\n",
       "\n",
       "    .dataframe thead th {\n",
       "        text-align: right;\n",
       "    }\n",
       "</style>\n",
       "<table border=\"1\" class=\"dataframe\">\n",
       "  <thead>\n",
       "    <tr style=\"text-align: right;\">\n",
       "      <th></th>\n",
       "      <th>CA</th>\n",
       "      <th>TI</th>\n",
       "      <th>AL</th>\n",
       "      <th>FE</th>\n",
       "      <th>MG</th>\n",
       "      <th>MN</th>\n",
       "      <th>K</th>\n",
       "      <th>NA</th>\n",
       "      <th>CE</th>\n",
       "      <th>SR</th>\n",
       "      <th>P</th>\n",
       "      <th>SI</th>\n",
       "      <th>S</th>\n",
       "      <th>C</th>\n",
       "      <th>XF</th>\n",
       "      <th>XCL</th>\n",
       "      <th>XOH</th>\n",
       "      <th>CAL_H2O(WT%)</th>\n",
       "      <th>stoi_bias,(Ca/P-5/3)/(5/3)*100%</th>\n",
       "      <th>sample</th>\n",
       "    </tr>\n",
       "  </thead>\n",
       "  <tbody>\n",
       "    <tr>\n",
       "      <th>0</th>\n",
       "      <td>10.288951</td>\n",
       "      <td>0.0</td>\n",
       "      <td>0.0</td>\n",
       "      <td>0.047485</td>\n",
       "      <td>0.026451</td>\n",
       "      <td>0.030058</td>\n",
       "      <td>0.0</td>\n",
       "      <td>0.037842</td>\n",
       "      <td>0.014291</td>\n",
       "      <td>0.006173</td>\n",
       "      <td>6.200865</td>\n",
       "      <td>0.001774</td>\n",
       "      <td>0.017311</td>\n",
       "      <td>0.0</td>\n",
       "      <td>0.002806</td>\n",
       "      <td>0.000075</td>\n",
       "      <td>0.997119</td>\n",
       "      <td>1.684949</td>\n",
       "      <td>0.816762</td>\n",
       "      <td>Ap1c</td>\n",
       "    </tr>\n",
       "    <tr>\n",
       "      <th>1</th>\n",
       "      <td>10.210269</td>\n",
       "      <td>0.0</td>\n",
       "      <td>0.0</td>\n",
       "      <td>0.047508</td>\n",
       "      <td>0.087332</td>\n",
       "      <td>0.030072</td>\n",
       "      <td>0.0</td>\n",
       "      <td>0.003098</td>\n",
       "      <td>0.013129</td>\n",
       "      <td>0.006176</td>\n",
       "      <td>6.185848</td>\n",
       "      <td>0.046156</td>\n",
       "      <td>0.010258</td>\n",
       "      <td>0.0</td>\n",
       "      <td>0.009544</td>\n",
       "      <td>0.00015</td>\n",
       "      <td>0.990305</td>\n",
       "      <td>1.672621</td>\n",
       "      <td>-0.059461</td>\n",
       "      <td>Ap2c</td>\n",
       "    </tr>\n",
       "    <tr>\n",
       "      <th>2</th>\n",
       "      <td>10.260152</td>\n",
       "      <td>0.0</td>\n",
       "      <td>0.0</td>\n",
       "      <td>0.047634</td>\n",
       "      <td>0.091565</td>\n",
       "      <td>0.030152</td>\n",
       "      <td>0.0</td>\n",
       "      <td>0.027013</td>\n",
       "      <td>0.012218</td>\n",
       "      <td>0.006193</td>\n",
       "      <td>6.172625</td>\n",
       "      <td>0.035099</td>\n",
       "      <td>0.010093</td>\n",
       "      <td>0.0</td>\n",
       "      <td>0.000281</td>\n",
       "      <td>0.000151</td>\n",
       "      <td>0.999568</td>\n",
       "      <td>1.683813</td>\n",
       "      <td>1.079786</td>\n",
       "      <td>Ap3c</td>\n",
       "    </tr>\n",
       "    <tr>\n",
       "      <th>3</th>\n",
       "      <td>10.191556</td>\n",
       "      <td>0.0</td>\n",
       "      <td>0.0</td>\n",
       "      <td>0.047575</td>\n",
       "      <td>0.092535</td>\n",
       "      <td>0.030114</td>\n",
       "      <td>0.0</td>\n",
       "      <td>0.02544</td>\n",
       "      <td>0.015746</td>\n",
       "      <td>0.006185</td>\n",
       "      <td>6.182755</td>\n",
       "      <td>0.046633</td>\n",
       "      <td>0.014986</td>\n",
       "      <td>0.0</td>\n",
       "      <td>0.000281</td>\n",
       "      <td>0.000301</td>\n",
       "      <td>0.999418</td>\n",
       "      <td>1.685652</td>\n",
       "      <td>0.017858</td>\n",
       "      <td>Ap4c</td>\n",
       "    </tr>\n",
       "  </tbody>\n",
       "</table>\n",
       "</div>"
      ],
      "text/plain": [
       "          CA   TI   AL        FE        MG        MN    K        NA        CE  \\\n",
       "0  10.288951  0.0  0.0  0.047485  0.026451  0.030058  0.0  0.037842  0.014291   \n",
       "1  10.210269  0.0  0.0  0.047508  0.087332  0.030072  0.0  0.003098  0.013129   \n",
       "2  10.260152  0.0  0.0  0.047634  0.091565  0.030152  0.0  0.027013  0.012218   \n",
       "3  10.191556  0.0  0.0  0.047575  0.092535  0.030114  0.0   0.02544  0.015746   \n",
       "\n",
       "         SR         P        SI         S    C        XF       XCL       XOH  \\\n",
       "0  0.006173  6.200865  0.001774  0.017311  0.0  0.002806  0.000075  0.997119   \n",
       "1  0.006176  6.185848  0.046156  0.010258  0.0  0.009544   0.00015  0.990305   \n",
       "2  0.006193  6.172625  0.035099  0.010093  0.0  0.000281  0.000151  0.999568   \n",
       "3  0.006185  6.182755  0.046633  0.014986  0.0  0.000281  0.000301  0.999418   \n",
       "\n",
       "   CAL_H2O(WT%)  stoi_bias,(Ca/P-5/3)/(5/3)*100% sample  \n",
       "0      1.684949                         0.816762   Ap1c  \n",
       "1      1.672621                        -0.059461   Ap2c  \n",
       "2      1.683813                         1.079786   Ap3c  \n",
       "3      1.685652                         0.017858   Ap4c  "
      ]
     },
     "execution_count": 12,
     "metadata": {},
     "output_type": "execute_result"
    }
   ],
   "source": [
    "results_stoi = stoi_(data,assume_oxy = 26) \n",
    "results_stoi"
   ]
  },
  {
   "cell_type": "markdown",
   "metadata": {},
   "source": [
    "Use an oxygen number between 25 and 26 using `stoi_ketcham()` function in module `ApStoic_Ketcham.py` "
   ]
  },
  {
   "cell_type": "code",
   "execution_count": 13,
   "metadata": {},
   "outputs": [
    {
     "data": {
      "text/html": [
       "<div>\n",
       "<style scoped>\n",
       "    .dataframe tbody tr th:only-of-type {\n",
       "        vertical-align: middle;\n",
       "    }\n",
       "\n",
       "    .dataframe tbody tr th {\n",
       "        vertical-align: top;\n",
       "    }\n",
       "\n",
       "    .dataframe thead th {\n",
       "        text-align: right;\n",
       "    }\n",
       "</style>\n",
       "<table border=\"1\" class=\"dataframe\">\n",
       "  <thead>\n",
       "    <tr style=\"text-align: right;\">\n",
       "      <th></th>\n",
       "      <th>CA</th>\n",
       "      <th>TI</th>\n",
       "      <th>AL</th>\n",
       "      <th>FE</th>\n",
       "      <th>MG</th>\n",
       "      <th>MN</th>\n",
       "      <th>K</th>\n",
       "      <th>NA</th>\n",
       "      <th>CE</th>\n",
       "      <th>SR</th>\n",
       "      <th>...</th>\n",
       "      <th>SI</th>\n",
       "      <th>S</th>\n",
       "      <th>C</th>\n",
       "      <th>XF</th>\n",
       "      <th>XCL</th>\n",
       "      <th>XOH</th>\n",
       "      <th>stoi_bias,(Ca/P-5/3)/(5/3)*100%</th>\n",
       "      <th>sample</th>\n",
       "      <th>CAL_H2O(WT%)</th>\n",
       "      <th>OXYGEN NUMBER</th>\n",
       "    </tr>\n",
       "  </thead>\n",
       "  <tbody>\n",
       "    <tr>\n",
       "      <th>0</th>\n",
       "      <td>9.894319</td>\n",
       "      <td>0.0</td>\n",
       "      <td>0.0</td>\n",
       "      <td>0.045664</td>\n",
       "      <td>0.025437</td>\n",
       "      <td>0.028905</td>\n",
       "      <td>0.0</td>\n",
       "      <td>0.036391</td>\n",
       "      <td>0.013743</td>\n",
       "      <td>0.005936</td>\n",
       "      <td>...</td>\n",
       "      <td>0.001706</td>\n",
       "      <td>0.016647</td>\n",
       "      <td>0.0</td>\n",
       "      <td>0.002698</td>\n",
       "      <td>0.000072</td>\n",
       "      <td>0.997230</td>\n",
       "      <td>0.816762</td>\n",
       "      <td>Ap1c</td>\n",
       "      <td>1.752347</td>\n",
       "      <td>25.002770</td>\n",
       "    </tr>\n",
       "    <tr>\n",
       "      <th>1</th>\n",
       "      <td>9.821228</td>\n",
       "      <td>0.0</td>\n",
       "      <td>0.0</td>\n",
       "      <td>0.045698</td>\n",
       "      <td>0.084005</td>\n",
       "      <td>0.028926</td>\n",
       "      <td>0.0</td>\n",
       "      <td>0.002980</td>\n",
       "      <td>0.012628</td>\n",
       "      <td>0.005941</td>\n",
       "      <td>...</td>\n",
       "      <td>0.044397</td>\n",
       "      <td>0.009867</td>\n",
       "      <td>0.0</td>\n",
       "      <td>0.009181</td>\n",
       "      <td>0.000145</td>\n",
       "      <td>0.990675</td>\n",
       "      <td>-0.059461</td>\n",
       "      <td>Ap2c</td>\n",
       "      <td>1.739526</td>\n",
       "      <td>25.009325</td>\n",
       "    </tr>\n",
       "    <tr>\n",
       "      <th>2</th>\n",
       "      <td>9.865694</td>\n",
       "      <td>0.0</td>\n",
       "      <td>0.0</td>\n",
       "      <td>0.045803</td>\n",
       "      <td>0.088045</td>\n",
       "      <td>0.028993</td>\n",
       "      <td>0.0</td>\n",
       "      <td>0.025975</td>\n",
       "      <td>0.011749</td>\n",
       "      <td>0.005954</td>\n",
       "      <td>...</td>\n",
       "      <td>0.033750</td>\n",
       "      <td>0.009705</td>\n",
       "      <td>0.0</td>\n",
       "      <td>0.000271</td>\n",
       "      <td>0.000145</td>\n",
       "      <td>0.999584</td>\n",
       "      <td>1.079786</td>\n",
       "      <td>Ap3c</td>\n",
       "      <td>1.751166</td>\n",
       "      <td>25.000416</td>\n",
       "    </tr>\n",
       "    <tr>\n",
       "      <th>3</th>\n",
       "      <td>9.799792</td>\n",
       "      <td>0.0</td>\n",
       "      <td>0.0</td>\n",
       "      <td>0.045746</td>\n",
       "      <td>0.088978</td>\n",
       "      <td>0.028957</td>\n",
       "      <td>0.0</td>\n",
       "      <td>0.024462</td>\n",
       "      <td>0.015140</td>\n",
       "      <td>0.005947</td>\n",
       "      <td>...</td>\n",
       "      <td>0.044841</td>\n",
       "      <td>0.014410</td>\n",
       "      <td>0.0</td>\n",
       "      <td>0.000270</td>\n",
       "      <td>0.000290</td>\n",
       "      <td>0.999440</td>\n",
       "      <td>0.017858</td>\n",
       "      <td>Ap4c</td>\n",
       "      <td>1.753078</td>\n",
       "      <td>25.000560</td>\n",
       "    </tr>\n",
       "  </tbody>\n",
       "</table>\n",
       "<p>4 rows × 21 columns</p>\n",
       "</div>"
      ],
      "text/plain": [
       "         CA   TI   AL        FE        MG        MN    K        NA        CE  \\\n",
       "0  9.894319  0.0  0.0  0.045664  0.025437  0.028905  0.0  0.036391  0.013743   \n",
       "1  9.821228  0.0  0.0  0.045698  0.084005  0.028926  0.0  0.002980  0.012628   \n",
       "2  9.865694  0.0  0.0  0.045803  0.088045  0.028993  0.0  0.025975  0.011749   \n",
       "3  9.799792  0.0  0.0  0.045746  0.088978  0.028957  0.0  0.024462  0.015140   \n",
       "\n",
       "         SR  ...        SI         S    C        XF       XCL       XOH  \\\n",
       "0  0.005936  ...  0.001706  0.016647  0.0  0.002698  0.000072  0.997230   \n",
       "1  0.005941  ...  0.044397  0.009867  0.0  0.009181  0.000145  0.990675   \n",
       "2  0.005954  ...  0.033750  0.009705  0.0  0.000271  0.000145  0.999584   \n",
       "3  0.005947  ...  0.044841  0.014410  0.0  0.000270  0.000290  0.999440   \n",
       "\n",
       "   stoi_bias,(Ca/P-5/3)/(5/3)*100%  sample CAL_H2O(WT%)  OXYGEN NUMBER  \n",
       "0                         0.816762    Ap1c     1.752347      25.002770  \n",
       "1                        -0.059461    Ap2c     1.739526      25.009325  \n",
       "2                         1.079786    Ap3c     1.751166      25.000416  \n",
       "3                         0.017858    Ap4c     1.753078      25.000560  \n",
       "\n",
       "[4 rows x 21 columns]"
      ]
     },
     "execution_count": 13,
     "metadata": {},
     "output_type": "execute_result"
    }
   ],
   "source": [
    "results_ketc = stoi_ketcham(data)\n",
    "results_ketc"
   ]
  },
  {
   "cell_type": "code",
   "execution_count": 5,
   "metadata": {},
   "outputs": [
    {
     "data": {
      "text/plain": [
       "0   -0.029528\n",
       "1   -0.013248\n",
       "2   -0.013414\n",
       "3   -0.020811\n",
       "Name: CAL_H2O(WT%), dtype: float64"
      ]
     },
     "execution_count": 5,
     "metadata": {},
     "output_type": "execute_result"
    }
   ],
   "source": [
    "## difference in H2O concentration calculated using 26 oxygen, and oxygen number between 25 and 26 \n",
    "results_stoi[\"CAL_H2O(WT%)\"]-results_ketc[\"CAL_H2O(WT%)\"]"
   ]
  },
  {
   "cell_type": "markdown",
   "metadata": {},
   "source": [
    "The calculated oxygen number should fall between 25 and 26"
   ]
  },
  {
   "cell_type": "code",
   "execution_count": 6,
   "metadata": {},
   "outputs": [
    {
     "data": {
      "text/plain": [
       "0    25.563101\n",
       "1    25.803827\n",
       "2    25.800925\n",
       "3    25.691531\n",
       "Name: OXYGEN NUMBER, dtype: float64"
      ]
     },
     "execution_count": 6,
     "metadata": {},
     "output_type": "execute_result"
    }
   ],
   "source": [
    "results_ketc['OXYGEN NUMBER']"
   ]
  },
  {
   "cell_type": "markdown",
   "metadata": {},
   "source": [
    "### Plot apatite on F-Cl-OH ternary diagram"
   ]
  },
  {
   "cell_type": "markdown",
   "metadata": {},
   "source": [
    "#### Plot F-Cl-OH mole fractions calculated above"
   ]
  },
  {
   "cell_type": "code",
   "execution_count": 7,
   "metadata": {},
   "outputs": [
    {
     "data": {
      "image/png": "[encoded data removed]",
      "text/plain": [
       "<Figure size 864x432 with 2 Axes>"
      ]
     },
     "metadata": {
      "needs_background": "light"
     },
     "output_type": "display_data"
    }
   ],
   "source": [
    "# set up a figure for ternary plot (e.g. figure with 2 subplots)\n",
    "fig, (ax1, ax2) = plt.subplots(1,2,figsize=(12, 6))\n",
    "\n",
    "# set up blank ternary digram for each axis \n",
    "ApTernary.ternary(ax1)\n",
    "ApTernary.ternary(ax2)\n",
    "\n",
    "for idx, value in results_stoi.iterrows():\n",
    "    x_f = value['XF']\n",
    "    x_cl = value['XCL']\n",
    "    x = (x_f + x_cl/2) * 100\n",
    "    y = x_cl*math.sqrt(3)*50\n",
    "\n",
    "    if x > 100:\n",
    "        x = 100\n",
    "    if y > math.sqrt(3)*50:\n",
    "        y = math.sqrt(3)*50\n",
    "\n",
    "    ax1.plot(x,y,'o',ms=10,label=value['sample'])\n",
    "\n",
    "for idx, value in results_ketc.iterrows():\n",
    "    x_f = value['XF']\n",
    "    x_cl = value['XCL']\n",
    "    x = (x_f + x_cl/2) * 100\n",
    "    y = x_cl*math.sqrt(3)*50\n",
    "\n",
    "    if x > 100:\n",
    "        x = 100\n",
    "    if y > math.sqrt(3)*50:\n",
    "        y = math.sqrt(3)*50\n",
    "\n",
    "    ax2.plot(x,y,'*',ms=10,label=value['sample'])\n",
    "\n",
    "ax1.axis('off')\n",
    "ax1.legend(loc='best')\n",
    "plt.show()\n"
   ]
  },
  {
   "cell_type": "markdown",
   "metadata": {},
   "source": [
    "### save results"
   ]
  },
  {
   "cell_type": "code",
   "execution_count": 8,
   "metadata": {},
   "outputs": [],
   "source": [
    "results_stoi.to_csv(\"stoichiometry_26O.csv\")\n",
    "results_ketc.to_csv(\"stoichiometry_VariedO.csv\")"
   ]
  }
 ],
 "metadata": {
  "kernelspec": {
   "display_name": "Python 3.9.6 ('base')",
   "language": "python",
   "name": "python3"
  },
  "language_info": {
   "codemirror_mode": {
    "name": "ipython",
    "version": 3
   },
   "file_extension": ".py",
   "mimetype": "text/x-python",
   "name": "python",
   "nbconvert_exporter": "python",
   "pygments_lexer": "ipython3",
   "version": "3.9.6"
  },
  "vscode": {
   "interpreter": {
    "hash": "dbfc26f88d4be79d14d7fd08a335d9cb9196b9d1da0cd3f4e161d45a5650b80a"
   }
  }
 },
 "nbformat": 4,
 "nbformat_minor": 2
}
