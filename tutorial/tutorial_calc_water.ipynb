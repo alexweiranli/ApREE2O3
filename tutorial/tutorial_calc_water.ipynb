{
 "cells": [
  {
   "cell_type": "markdown",
   "metadata": {},
   "source": [
    "# 1. Calculating apatite-melt exchange coefficients (Kd) and melt water concentration "
   ]
  },
  {
   "cell_type": "markdown",
   "metadata": {},
   "source": [
    "pyAp contains a melt hygrometry model ApThermo, proposed in Li and Costa (2020, GCA) (see equations in ```pyApThermo.py```).\n",
    "\n",
    "This file shows how to calculate exchange coefficient (Kd) and melt water contents using our package. This package also allows error propagation that is not applicable from the webpage or excel version of ApThermo. Performing the hygrometric calculation requires known F, Cl (w or w/o H$_{2}$O concentrations in apatite, and F and Cl concentrations in the melt (see details below). \n",
    "\n",
    "Please cite the paper below if you use this model:\n",
    "\n",
    "Li, W. & Costa, F. (2020) A thermodynamic model for F-Cl-OH partitioning between apatite and melt including non-ideal mixing and applications to constraining melt volatile budgets, \n",
    "Geochimica et Cosmochimica Acta 269, 203–222. https://doi.org/10.1016/j.gca.2019.10.035"
   ]
  },
  {
   "cell_type": "markdown",
   "metadata": {},
   "source": [
    "### Import modules and data\n",
    "\n",
    "import releavant modules."
   ]
  },
  {
   "cell_type": "code",
   "execution_count": 1,
   "metadata": {},
   "outputs": [],
   "source": [
    "import pandas as pd, numpy as np, matplotlib.pyplot as plt, seaborn as sns\n",
    "\n",
    "## use the 3 lines below if you want to use the pyAp codes inthe subdirectory next to the current path\n",
    "## comment them, if you want to use the pyAp installed elsewhere on your computer\n",
    "import os, sys\n",
    "if not os.path.exists('pyAp') and os.path.exists('../pyAp'): # hack to allow scripts to be placed in subdirectories next to pyAp:\n",
    "    sys.path.insert(1, os.path.abspath('..'))\n",
    "\n",
    "## import pyAp modules\n",
    "from pyAp import pyApthermo\n",
    "from pyAp.pyAp_tools import ap_mc"
   ]
  },
  {
   "cell_type": "markdown",
   "metadata": {},
   "source": [
    "### Import data\n",
    "\n",
    "!! Do NOT change the column header names in the template excel file (provided in the same folder).\n",
    "\n",
    "!! Do NOT use same sample labels for different samples (as this will affect the MC sampling below for error estimation)"
   ]
  },
  {
   "cell_type": "code",
   "execution_count": 2,
   "metadata": {},
   "outputs": [
    {
     "data": {
      "text/html": [
       "<div>\n",
       "<style scoped>\n",
       "    .dataframe tbody tr th:only-of-type {\n",
       "        vertical-align: middle;\n",
       "    }\n",
       "\n",
       "    .dataframe tbody tr th {\n",
       "        vertical-align: top;\n",
       "    }\n",
       "\n",
       "    .dataframe thead th {\n",
       "        text-align: right;\n",
       "    }\n",
       "</style>\n",
       "<table border=\"1\" class=\"dataframe\">\n",
       "  <thead>\n",
       "    <tr style=\"text-align: right;\">\n",
       "      <th></th>\n",
       "      <th>sample</th>\n",
       "      <th>XF</th>\n",
       "      <th>XCL</th>\n",
       "      <th>MELTF</th>\n",
       "      <th>MELTCL</th>\n",
       "      <th>MELTCOMP</th>\n",
       "      <th>T,C</th>\n",
       "      <th>XF_SD</th>\n",
       "      <th>XCL_SD</th>\n",
       "      <th>MELTF_SD</th>\n",
       "      <th>MELTCL_SD</th>\n",
       "      <th>T_SD</th>\n",
       "    </tr>\n",
       "  </thead>\n",
       "  <tbody>\n",
       "    <tr>\n",
       "      <th>0</th>\n",
       "      <td>Ap1c_1</td>\n",
       "      <td>0.400665</td>\n",
       "      <td>0.17206</td>\n",
       "      <td>600</td>\n",
       "      <td>2500</td>\n",
       "      <td>Rhyolite</td>\n",
       "      <td>950</td>\n",
       "      <td>0.01</td>\n",
       "      <td>0.01</td>\n",
       "      <td>100</td>\n",
       "      <td>100</td>\n",
       "      <td>20</td>\n",
       "    </tr>\n",
       "    <tr>\n",
       "      <th>1</th>\n",
       "      <td>Ap1c_2</td>\n",
       "      <td>0.400665</td>\n",
       "      <td>0.17206</td>\n",
       "      <td>600</td>\n",
       "      <td>2500</td>\n",
       "      <td>Dacite</td>\n",
       "      <td>950</td>\n",
       "      <td>0.01</td>\n",
       "      <td>0.01</td>\n",
       "      <td>100</td>\n",
       "      <td>100</td>\n",
       "      <td>20</td>\n",
       "    </tr>\n",
       "    <tr>\n",
       "      <th>2</th>\n",
       "      <td>Ap1c_3</td>\n",
       "      <td>0.400665</td>\n",
       "      <td>0.17206</td>\n",
       "      <td>600</td>\n",
       "      <td>2500</td>\n",
       "      <td>Alkali Basalt</td>\n",
       "      <td>950</td>\n",
       "      <td>0.01</td>\n",
       "      <td>0.01</td>\n",
       "      <td>100</td>\n",
       "      <td>100</td>\n",
       "      <td>20</td>\n",
       "    </tr>\n",
       "  </tbody>\n",
       "</table>\n",
       "</div>"
      ],
      "text/plain": [
       "   sample        XF      XCL  MELTF  MELTCL       MELTCOMP  T,C  XF_SD  \\\n",
       "0  Ap1c_1  0.400665  0.17206    600    2500       Rhyolite  950   0.01   \n",
       "1  Ap1c_2  0.400665  0.17206    600    2500         Dacite  950   0.01   \n",
       "2  Ap1c_3  0.400665  0.17206    600    2500  Alkali Basalt  950   0.01   \n",
       "\n",
       "   XCL_SD  MELTF_SD  MELTCL_SD  T_SD  \n",
       "0    0.01       100        100    20  \n",
       "1    0.01       100        100    20  \n",
       "2    0.01       100        100    20  "
      ]
     },
     "execution_count": 2,
     "metadata": {},
     "output_type": "execute_result"
    }
   ],
   "source": [
    "df = pd.read_excel('data_calc_water.xlsx',sheet_name=\"Sheet2\")\n",
    "df"
   ]
  },
  {
   "cell_type": "markdown",
   "metadata": {},
   "source": [
    "Extract parameter values from the input file"
   ]
  },
  {
   "cell_type": "code",
   "execution_count": 3,
   "metadata": {},
   "outputs": [],
   "source": [
    "order  = ['XF', 'XCL', 'T,C', 'MELTF', 'MELTCL', 'MELTCOMP']\n",
    "data = df[order]  "
   ]
  },
  {
   "cell_type": "markdown",
   "metadata": {},
   "source": [
    "### Calculate H$_{2}$O in the melt using apatite"
   ]
  },
  {
   "cell_type": "markdown",
   "metadata": {},
   "source": [
    "#### Water speciation models\n",
    "Water speciation models available in this package are shown in \"pyAp/water_speciation.csv\" and also in `pyApThermo.py`, including:  \n",
    "\n",
    "`dacite`            - Liu et al. 2004 \n",
    "\n",
    "`alkali basalt`     - Lasne et al. 2010  \n",
    "    \n",
    "`rhyolite`          - Zhang et al. 1997  \n",
    "    \n",
    "`rhyolite_highP`    - Hui et al. 2008     (1 GPa)\n",
    "    \n",
    "`andesite`          - Ni et al. 2009  \n",
    "    \n",
    "`andesite_highT`    - Botcharnikov 2006   (1100-1300 ºC)\n",
    "\n",
    "Note that model names filled in the input file (under `MELTCOMP`) should be exactly the same as those listed above. For example, \"dacite\" needs NOT to be written as \"Dacite\". \n",
    "When no model was input, the code would use the default one: `dacite` of Liu et al. (2004), DOI: 10.2138/am-2004-2-304\n",
    "\n",
    "Additional water speciation models could be added to `pyApThermo.py`. If you would like to discuss on this with us feel free to email Alex (wl413@cam.ac.uk). "
   ]
  },
  {
   "cell_type": "markdown",
   "metadata": {},
   "source": [
    "#### Calculation\n",
    "\n",
    "You can use a Dataframe function `apply()` (see below) for iterations through each row of the input DataFrame. The data are assigned into class `Apthermo` for calculation. \n",
    "\n",
    "When `cal_H2O=True` (default), there will be 8 values calculated for each crystal following the order of: MeltWater calculated from F and Cl,  Kds for OH-Cl, OH-F, Cl-F, and activity coefficient (gamma) of OH, F, and Cl. \n",
    "\n",
    "When `cal_H2O=False`, there will be 6 values calculated for each crystal (Kds and gammas). \n"
   ]
  },
  {
   "cell_type": "code",
   "execution_count": 4,
   "metadata": {},
   "outputs": [
    {
     "data": {
      "text/html": [
       "<div>\n",
       "<style scoped>\n",
       "    .dataframe tbody tr th:only-of-type {\n",
       "        vertical-align: middle;\n",
       "    }\n",
       "\n",
       "    .dataframe tbody tr th {\n",
       "        vertical-align: top;\n",
       "    }\n",
       "\n",
       "    .dataframe thead th {\n",
       "        text-align: right;\n",
       "    }\n",
       "</style>\n",
       "<table border=\"1\" class=\"dataframe\">\n",
       "  <thead>\n",
       "    <tr style=\"text-align: right;\">\n",
       "      <th></th>\n",
       "      <th>MeltWater_calcfromF</th>\n",
       "      <th>MeltWater_calcfromCl</th>\n",
       "      <th>sample</th>\n",
       "      <th>MeltComp</th>\n",
       "      <th>Model_used</th>\n",
       "    </tr>\n",
       "  </thead>\n",
       "  <tbody>\n",
       "    <tr>\n",
       "      <th>0</th>\n",
       "      <td>3.043514</td>\n",
       "      <td>2.890552</td>\n",
       "      <td>Ap1c_1</td>\n",
       "      <td>Rhyolite</td>\n",
       "      <td>rhyolite</td>\n",
       "    </tr>\n",
       "    <tr>\n",
       "      <th>1</th>\n",
       "      <td>3.047603</td>\n",
       "      <td>2.894301</td>\n",
       "      <td>Ap1c_2</td>\n",
       "      <td>Dacite</td>\n",
       "      <td>dacite</td>\n",
       "    </tr>\n",
       "    <tr>\n",
       "      <th>2</th>\n",
       "      <td>4.296288</td>\n",
       "      <td>4.035510</td>\n",
       "      <td>Ap1c_3</td>\n",
       "      <td>Alkali Basalt</td>\n",
       "      <td>alkali basalt</td>\n",
       "    </tr>\n",
       "  </tbody>\n",
       "</table>\n",
       "</div>"
      ],
      "text/plain": [
       "   MeltWater_calcfromF  MeltWater_calcfromCl  sample       MeltComp  \\\n",
       "0             3.043514              2.890552  Ap1c_1       Rhyolite   \n",
       "1             3.047603              2.894301  Ap1c_2         Dacite   \n",
       "2             4.296288              4.035510  Ap1c_3  Alkali Basalt   \n",
       "\n",
       "      Model_used  \n",
       "0       rhyolite  \n",
       "1         dacite  \n",
       "2  alkali basalt  "
      ]
     },
     "execution_count": 4,
     "metadata": {},
     "output_type": "execute_result"
    }
   ],
   "source": [
    "results = pd.DataFrame()\n",
    "list_result = data.apply(\n",
    "    lambda row: pyApthermo.ApThermo(inputs=row[order], cal_H2O=True,cal_gamma=False).meltH2O(),axis=1\n",
    "    )\n",
    "results['MeltWater_calcfromF']  = [x[0] for x in list_result]\n",
    "results['MeltWater_calcfromCl'] = [x[1] for x in list_result]\n",
    "results['sample']               = df['sample']\n",
    "results['MeltComp']             = df['MELTCOMP']\n",
    "results['Model_used']           = [x[-1] for x in list_result]\n",
    "results"
   ]
  },
  {
   "cell_type": "markdown",
   "metadata": {},
   "source": [
    "#### Save results (to csv file)"
   ]
  },
  {
   "cell_type": "code",
   "execution_count": 5,
   "metadata": {},
   "outputs": [],
   "source": [
    "fn = 'outputs_melt_water.csv'\n",
    "pd.concat([df,results[['MeltWater_calcfromF','MeltWater_calcfromCl','Model_used']]],axis=1).to_csv(fn)"
   ]
  },
  {
   "cell_type": "markdown",
   "metadata": {},
   "source": [
    "### Error integration using a monte carlo (MC) algorithm\n",
    "\n",
    "Below we show an example of estimating errors in the melt water estimates given errors in apatite composition, melt F-Cl contents, and temperature.\n",
    "\n",
    "First, set the number of MC sampling (better to be no less than 5000)"
   ]
  },
  {
   "cell_type": "code",
   "execution_count": 6,
   "metadata": {},
   "outputs": [],
   "source": [
    "mc = 5000"
   ]
  },
  {
   "cell_type": "markdown",
   "metadata": {},
   "source": [
    "#### Create a dataframe for storing parameter values and results from MC sampling"
   ]
  },
  {
   "cell_type": "code",
   "execution_count": 7,
   "metadata": {},
   "outputs": [],
   "source": [
    "ap_mc_collect = pd.DataFrame()\n",
    "comp = df[['XF', 'XCL', 'T,C', 'MELTF', 'MELTCL']]\n",
    "std = df[['XF_SD', 'XCL_SD', 'T_SD','MELTF_SD', 'MELTCL_SD']]"
   ]
  },
  {
   "cell_type": "markdown",
   "metadata": {},
   "source": [
    "Use function `ap_mc()` to vectorize and store values to the created empty dataframe `ap_mc_collect` "
   ]
  },
  {
   "cell_type": "code",
   "execution_count": 8,
   "metadata": {},
   "outputs": [],
   "source": [
    "for idx in range(len(df)):\n",
    "    df_iter = ap_mc(comp, std, idx, mc)\n",
    "    ap_mc_collect = ap_mc_collect.append(df_iter)"
   ]
  },
  {
   "cell_type": "markdown",
   "metadata": {},
   "source": [
    "#### Calculate melt water contents using MC samples and function `meltH2O()` in module `pyApthermo`. \n",
    "\n",
    "Note that `warnings.warn(msg, RuntimeWarning`) may appear if the code cannot find good solutions to some equations (in most cases because the calculated mole OH in the melt is too high). \n",
    "\n",
    "Considering this, in the module code we set the limit of the calculated melt water concentration to be between 0 and 15 wt% (given the range of H$_{2}$O in most silicate melts).\n",
    "\n",
    "##### Running the cell below may take a few seconds, if mc is set as ≥10,000"
   ]
  },
  {
   "cell_type": "code",
   "execution_count": 9,
   "metadata": {},
   "outputs": [],
   "source": [
    "ap_mc_collect.columns = comp.columns\n",
    "ap_mc_collect['MELTCOMP'] = df.loc[df.index.repeat(mc)]['MELTCOMP']\n",
    "ap_mc_collect['water_estimates'] = ap_mc_collect.apply(\n",
    "    lambda row: pyApthermo.ApThermo(inputs=row[order], cal_H2O=True,cal_gamma=False).meltH2O(),axis=1\n",
    "    )\n",
    "ap_mc_collect['sample'] = df.loc[df.index.repeat(mc)]['sample']"
   ]
  },
  {
   "cell_type": "code",
   "execution_count": 10,
   "metadata": {},
   "outputs": [],
   "source": [
    "results_mc = pd.DataFrame()\n",
    "results_mc['MeltWater_calcfromF'] = [x[0] for x in ap_mc_collect['water_estimates']]   ## only take melt water estimates between 0 and 16wt%\n",
    "results_mc['MeltWater_calcfromCl'] = [x[1] for x in ap_mc_collect['water_estimates']]  ## only take melt water estimates between 0 and 16wt%\n",
    "results_mc['sample'] = ap_mc_collect.reset_index()['sample']"
   ]
  },
  {
   "cell_type": "markdown",
   "metadata": {},
   "source": [
    "#### Drop mc results that are equal to `NaN` (this may occur when water speciation conversion has no solution)"
   ]
  },
  {
   "cell_type": "code",
   "execution_count": 11,
   "metadata": {},
   "outputs": [],
   "source": [
    "results_mc=results_mc.dropna()"
   ]
  },
  {
   "cell_type": "markdown",
   "metadata": {},
   "source": [
    "#### Calculate mean values and uncertainties \n",
    "\n",
    "Calculate and show the mean and standard deviation of the melt water estimates. The median values can also be shown by adding \"median\" to `.agg([])` below. "
   ]
  },
  {
   "cell_type": "code",
   "execution_count": 12,
   "metadata": {},
   "outputs": [],
   "source": [
    "res = results_mc.groupby('sample').agg(['mean', 'median'])"
   ]
  },
  {
   "cell_type": "markdown",
   "metadata": {},
   "source": [
    "Calculate standard deviation (half the range between 84% and 16% of all results). This is should be done if the distribution of the MC results are not Gaussian (see code below)."
   ]
  },
  {
   "cell_type": "code",
   "execution_count": 13,
   "metadata": {},
   "outputs": [],
   "source": [
    "sd_F = results_mc.groupby('sample')['MeltWater_calcfromF'].transform(lambda s: (np.percentile(s, 84)-np.percentile(s, 16))/2).unique()\n",
    "sd_Cl = results_mc.groupby('sample')['MeltWater_calcfromCl'].transform(lambda s: (np.percentile(s, 84)-np.percentile(s, 16))/2).unique()"
   ]
  },
  {
   "cell_type": "markdown",
   "metadata": {},
   "source": [
    "#### Store results in DataFrame `results_water`\n",
    "\n",
    "`results_water`: values in the leftmost two columns were calculated without considering any errors (see above), whereas the rest were calculated using the MC algorithm. \n",
    "\n",
    "Note that the mean values calculated from the two methods mentioned above should be identical. "
   ]
  },
  {
   "cell_type": "code",
   "execution_count": 14,
   "metadata": {},
   "outputs": [
    {
     "data": {
      "text/html": [
       "<div>\n",
       "<style scoped>\n",
       "    .dataframe tbody tr th:only-of-type {\n",
       "        vertical-align: middle;\n",
       "    }\n",
       "\n",
       "    .dataframe tbody tr th {\n",
       "        vertical-align: top;\n",
       "    }\n",
       "\n",
       "    .dataframe thead th {\n",
       "        text-align: right;\n",
       "    }\n",
       "</style>\n",
       "<table border=\"1\" class=\"dataframe\">\n",
       "  <thead>\n",
       "    <tr style=\"text-align: right;\">\n",
       "      <th></th>\n",
       "      <th>MeltWater_Fmean</th>\n",
       "      <th>MeltWater_Fmedian</th>\n",
       "      <th>MeltWater_F1sd</th>\n",
       "      <th>MeltWater_Clmean</th>\n",
       "      <th>MeltWater_Clmedian</th>\n",
       "      <th>MeltWater_Cl1sd</th>\n",
       "    </tr>\n",
       "  </thead>\n",
       "  <tbody>\n",
       "    <tr>\n",
       "      <th>0</th>\n",
       "      <td>3.003497</td>\n",
       "      <td>3.046976</td>\n",
       "      <td>0.195208</td>\n",
       "      <td>3.011100</td>\n",
       "      <td>2.904564</td>\n",
       "      <td>0.690114</td>\n",
       "    </tr>\n",
       "    <tr>\n",
       "      <th>1</th>\n",
       "      <td>3.007479</td>\n",
       "      <td>3.050916</td>\n",
       "      <td>0.190087</td>\n",
       "      <td>3.010041</td>\n",
       "      <td>2.908116</td>\n",
       "      <td>0.672337</td>\n",
       "    </tr>\n",
       "    <tr>\n",
       "      <th>2</th>\n",
       "      <td>4.227564</td>\n",
       "      <td>4.292241</td>\n",
       "      <td>0.366478</td>\n",
       "      <td>4.274336</td>\n",
       "      <td>4.029978</td>\n",
       "      <td>1.213357</td>\n",
       "    </tr>\n",
       "  </tbody>\n",
       "</table>\n",
       "</div>"
      ],
      "text/plain": [
       "   MeltWater_Fmean  MeltWater_Fmedian  MeltWater_F1sd  MeltWater_Clmean  \\\n",
       "0         3.003497           3.046976        0.195208          3.011100   \n",
       "1         3.007479           3.050916        0.190087          3.010041   \n",
       "2         4.227564           4.292241        0.366478          4.274336   \n",
       "\n",
       "   MeltWater_Clmedian  MeltWater_Cl1sd  \n",
       "0            2.904564         0.690114  \n",
       "1            2.908116         0.672337  \n",
       "2            4.029978         1.213357  "
      ]
     },
     "execution_count": 14,
     "metadata": {},
     "output_type": "execute_result"
    }
   ],
   "source": [
    "results_water=pd.DataFrame()\n",
    "results_water['MeltWater_Fmean']   =  [x for x in res[\"MeltWater_calcfromF\"][\"mean\"]]\n",
    "results_water['MeltWater_Fmedian']   =  [x for x in res[\"MeltWater_calcfromF\"][\"median\"]]\n",
    "results_water['MeltWater_F1sd']  = [x for x in sd_F]\n",
    "\n",
    "results_water['MeltWater_Clmean']  = [x for x in res[\"MeltWater_calcfromCl\"][\"mean\"]]\n",
    "results_water['MeltWater_Clmedian']  = [x for x in res[\"MeltWater_calcfromCl\"][\"median\"]]\n",
    "results_water['MeltWater_Cl1sd'] = [x for x in sd_Cl]\n",
    "\n",
    "results_water"
   ]
  },
  {
   "cell_type": "markdown",
   "metadata": {},
   "source": [
    "#### combine with `results` calculated above that does not consider uncertainties"
   ]
  },
  {
   "cell_type": "code",
   "execution_count": 15,
   "metadata": {},
   "outputs": [
    {
     "data": {
      "text/html": [
       "<div>\n",
       "<style scoped>\n",
       "    .dataframe tbody tr th:only-of-type {\n",
       "        vertical-align: middle;\n",
       "    }\n",
       "\n",
       "    .dataframe tbody tr th {\n",
       "        vertical-align: top;\n",
       "    }\n",
       "\n",
       "    .dataframe thead th {\n",
       "        text-align: right;\n",
       "    }\n",
       "</style>\n",
       "<table border=\"1\" class=\"dataframe\">\n",
       "  <thead>\n",
       "    <tr style=\"text-align: right;\">\n",
       "      <th></th>\n",
       "      <th>MeltWater_calcfromF</th>\n",
       "      <th>MeltWater_calcfromCl</th>\n",
       "      <th>sample</th>\n",
       "      <th>MeltComp</th>\n",
       "      <th>Model_used</th>\n",
       "      <th>MeltWater_Fmean</th>\n",
       "      <th>MeltWater_Fmedian</th>\n",
       "      <th>MeltWater_F1sd</th>\n",
       "      <th>MeltWater_Clmean</th>\n",
       "      <th>MeltWater_Clmedian</th>\n",
       "      <th>MeltWater_Cl1sd</th>\n",
       "    </tr>\n",
       "  </thead>\n",
       "  <tbody>\n",
       "    <tr>\n",
       "      <th>0</th>\n",
       "      <td>3.043514</td>\n",
       "      <td>2.890552</td>\n",
       "      <td>Ap1c_1</td>\n",
       "      <td>Rhyolite</td>\n",
       "      <td>rhyolite</td>\n",
       "      <td>3.003497</td>\n",
       "      <td>3.046976</td>\n",
       "      <td>0.195208</td>\n",
       "      <td>3.011100</td>\n",
       "      <td>2.904564</td>\n",
       "      <td>0.690114</td>\n",
       "    </tr>\n",
       "    <tr>\n",
       "      <th>1</th>\n",
       "      <td>3.047603</td>\n",
       "      <td>2.894301</td>\n",
       "      <td>Ap1c_2</td>\n",
       "      <td>Dacite</td>\n",
       "      <td>dacite</td>\n",
       "      <td>3.007479</td>\n",
       "      <td>3.050916</td>\n",
       "      <td>0.190087</td>\n",
       "      <td>3.010041</td>\n",
       "      <td>2.908116</td>\n",
       "      <td>0.672337</td>\n",
       "    </tr>\n",
       "    <tr>\n",
       "      <th>2</th>\n",
       "      <td>4.296288</td>\n",
       "      <td>4.035510</td>\n",
       "      <td>Ap1c_3</td>\n",
       "      <td>Alkali Basalt</td>\n",
       "      <td>alkali basalt</td>\n",
       "      <td>4.227564</td>\n",
       "      <td>4.292241</td>\n",
       "      <td>0.366478</td>\n",
       "      <td>4.274336</td>\n",
       "      <td>4.029978</td>\n",
       "      <td>1.213357</td>\n",
       "    </tr>\n",
       "  </tbody>\n",
       "</table>\n",
       "</div>"
      ],
      "text/plain": [
       "   MeltWater_calcfromF  MeltWater_calcfromCl  sample       MeltComp  \\\n",
       "0             3.043514              2.890552  Ap1c_1       Rhyolite   \n",
       "1             3.047603              2.894301  Ap1c_2         Dacite   \n",
       "2             4.296288              4.035510  Ap1c_3  Alkali Basalt   \n",
       "\n",
       "      Model_used  MeltWater_Fmean  MeltWater_Fmedian  MeltWater_F1sd  \\\n",
       "0       rhyolite         3.003497           3.046976        0.195208   \n",
       "1         dacite         3.007479           3.050916        0.190087   \n",
       "2  alkali basalt         4.227564           4.292241        0.366478   \n",
       "\n",
       "   MeltWater_Clmean  MeltWater_Clmedian  MeltWater_Cl1sd  \n",
       "0          3.011100            2.904564         0.690114  \n",
       "1          3.010041            2.908116         0.672337  \n",
       "2          4.274336            4.029978         1.213357  "
      ]
     },
     "execution_count": 15,
     "metadata": {},
     "output_type": "execute_result"
    }
   ],
   "source": [
    "df_comb=pd.concat([results,results_water],axis=1)\n",
    "df_comb"
   ]
  },
  {
   "cell_type": "markdown",
   "metadata": {},
   "source": [
    "#### Visualize results obtained from MC sampling, and compare with results without uncertainty considered\n",
    "\n",
    "The median of values from MC sampling, and the value calculated without considering errors, should be identical (plotted as vertical lines). \n",
    "\n",
    "If not, increase the number of mc sampling (`mc`) from cells above."
   ]
  },
  {
   "cell_type": "code",
   "execution_count": 16,
   "metadata": {},
   "outputs": [
    {
     "data": {
      "image/png": "[encoded data removed]",
      "text/plain": [
       "<Figure size 648x288 with 2 Axes>"
      ]
     },
     "metadata": {
      "needs_background": "light"
     },
     "output_type": "display_data"
    }
   ],
   "source": [
    "## set up color palette \n",
    "from mycolorpy import colorlist as mcp\n",
    "colors=mcp.gen_color(cmap='jet',n=len(df_comb))\n",
    "\n",
    "fig, axes = plt.subplots(1, 2, figsize=(9,4), constrained_layout=True)\n",
    "\n",
    "for i in range(len(df_comb)):\n",
    "    sample=df_comb['sample'][i]\n",
    "    unc=results_mc[results_mc['sample']==sample]\n",
    "\n",
    "    ## plot the median of MC results (considering uncertainty), and the value without considering uncertainty \n",
    "    axes[0].axvline(x=df_comb[\"MeltWater_Fmedian\"][i], c= colors[i], ls='--')\n",
    "    axes[0].axvline(x=df_comb[\"MeltWater_calcfromF\"][i], c= colors[i], ls='-')\n",
    "    axes[1].axvline(x=df_comb[\"MeltWater_Clmedian\"][i],  c= colors[i], ls='--',label='Median (MC)')    \n",
    "    axes[1].axvline(x=df_comb[\"MeltWater_calcfromCl\"][i], c= colors[i], ls='-',label='without considering error')\n",
    "\n",
    "    ## plot the distribution of MC results\n",
    "    sns.kdeplot(unc['MeltWater_calcfromF'], c= colors[i],  ax = axes[0])\n",
    "    sns.kdeplot(unc['MeltWater_calcfromCl'],c= colors[i], label=sample+' ['+df_comb['MeltComp'][i]+']', ax = axes[1])\n",
    "\n",
    "handles, labels = plt.gca().get_legend_handles_labels()\n",
    "by_label = dict(zip(labels, handles))\n",
    "plt.legend(by_label.values(), by_label.keys(),ncol=1,fontsize=11,loc='best')\n",
    "plt.show()\n"
   ]
  },
  {
   "cell_type": "markdown",
   "metadata": {},
   "source": [
    "## save results"
   ]
  },
  {
   "cell_type": "code",
   "execution_count": 17,
   "metadata": {},
   "outputs": [],
   "source": [
    "df_all=pd.concat([df,df_comb],axis=1)\n",
    "df_all=df_all.loc[:,~df_all.columns.duplicated()]\n",
    "df_all=df_all.drop(columns=[\"MeltComp\"])"
   ]
  },
  {
   "cell_type": "code",
   "execution_count": 18,
   "metadata": {},
   "outputs": [
    {
     "data": {
      "text/html": [
       "<div>\n",
       "<style scoped>\n",
       "    .dataframe tbody tr th:only-of-type {\n",
       "        vertical-align: middle;\n",
       "    }\n",
       "\n",
       "    .dataframe tbody tr th {\n",
       "        vertical-align: top;\n",
       "    }\n",
       "\n",
       "    .dataframe thead th {\n",
       "        text-align: right;\n",
       "    }\n",
       "</style>\n",
       "<table border=\"1\" class=\"dataframe\">\n",
       "  <thead>\n",
       "    <tr style=\"text-align: right;\">\n",
       "      <th></th>\n",
       "      <th>sample</th>\n",
       "      <th>XF</th>\n",
       "      <th>XCL</th>\n",
       "      <th>MELTF</th>\n",
       "      <th>MELTCL</th>\n",
       "      <th>MELTCOMP</th>\n",
       "      <th>T,C</th>\n",
       "      <th>XF_SD</th>\n",
       "      <th>XCL_SD</th>\n",
       "      <th>MELTF_SD</th>\n",
       "      <th>...</th>\n",
       "      <th>T_SD</th>\n",
       "      <th>MeltWater_calcfromF</th>\n",
       "      <th>MeltWater_calcfromCl</th>\n",
       "      <th>Model_used</th>\n",
       "      <th>MeltWater_Fmean</th>\n",
       "      <th>MeltWater_Fmedian</th>\n",
       "      <th>MeltWater_F1sd</th>\n",
       "      <th>MeltWater_Clmean</th>\n",
       "      <th>MeltWater_Clmedian</th>\n",
       "      <th>MeltWater_Cl1sd</th>\n",
       "    </tr>\n",
       "  </thead>\n",
       "  <tbody>\n",
       "    <tr>\n",
       "      <th>0</th>\n",
       "      <td>Ap1c_1</td>\n",
       "      <td>0.400665</td>\n",
       "      <td>0.17206</td>\n",
       "      <td>600</td>\n",
       "      <td>2500</td>\n",
       "      <td>Rhyolite</td>\n",
       "      <td>950</td>\n",
       "      <td>0.01</td>\n",
       "      <td>0.01</td>\n",
       "      <td>100</td>\n",
       "      <td>...</td>\n",
       "      <td>20</td>\n",
       "      <td>3.043514</td>\n",
       "      <td>2.890552</td>\n",
       "      <td>rhyolite</td>\n",
       "      <td>3.003497</td>\n",
       "      <td>3.046976</td>\n",
       "      <td>0.195208</td>\n",
       "      <td>3.011100</td>\n",
       "      <td>2.904564</td>\n",
       "      <td>0.690114</td>\n",
       "    </tr>\n",
       "    <tr>\n",
       "      <th>1</th>\n",
       "      <td>Ap1c_2</td>\n",
       "      <td>0.400665</td>\n",
       "      <td>0.17206</td>\n",
       "      <td>600</td>\n",
       "      <td>2500</td>\n",
       "      <td>Dacite</td>\n",
       "      <td>950</td>\n",
       "      <td>0.01</td>\n",
       "      <td>0.01</td>\n",
       "      <td>100</td>\n",
       "      <td>...</td>\n",
       "      <td>20</td>\n",
       "      <td>3.047603</td>\n",
       "      <td>2.894301</td>\n",
       "      <td>dacite</td>\n",
       "      <td>3.007479</td>\n",
       "      <td>3.050916</td>\n",
       "      <td>0.190087</td>\n",
       "      <td>3.010041</td>\n",
       "      <td>2.908116</td>\n",
       "      <td>0.672337</td>\n",
       "    </tr>\n",
       "    <tr>\n",
       "      <th>2</th>\n",
       "      <td>Ap1c_3</td>\n",
       "      <td>0.400665</td>\n",
       "      <td>0.17206</td>\n",
       "      <td>600</td>\n",
       "      <td>2500</td>\n",
       "      <td>Alkali Basalt</td>\n",
       "      <td>950</td>\n",
       "      <td>0.01</td>\n",
       "      <td>0.01</td>\n",
       "      <td>100</td>\n",
       "      <td>...</td>\n",
       "      <td>20</td>\n",
       "      <td>4.296288</td>\n",
       "      <td>4.035510</td>\n",
       "      <td>alkali basalt</td>\n",
       "      <td>4.227564</td>\n",
       "      <td>4.292241</td>\n",
       "      <td>0.366478</td>\n",
       "      <td>4.274336</td>\n",
       "      <td>4.029978</td>\n",
       "      <td>1.213357</td>\n",
       "    </tr>\n",
       "  </tbody>\n",
       "</table>\n",
       "<p>3 rows × 21 columns</p>\n",
       "</div>"
      ],
      "text/plain": [
       "   sample        XF      XCL  MELTF  MELTCL       MELTCOMP  T,C  XF_SD  \\\n",
       "0  Ap1c_1  0.400665  0.17206    600    2500       Rhyolite  950   0.01   \n",
       "1  Ap1c_2  0.400665  0.17206    600    2500         Dacite  950   0.01   \n",
       "2  Ap1c_3  0.400665  0.17206    600    2500  Alkali Basalt  950   0.01   \n",
       "\n",
       "   XCL_SD  MELTF_SD  ...  T_SD  MeltWater_calcfromF  MeltWater_calcfromCl  \\\n",
       "0    0.01       100  ...    20             3.043514              2.890552   \n",
       "1    0.01       100  ...    20             3.047603              2.894301   \n",
       "2    0.01       100  ...    20             4.296288              4.035510   \n",
       "\n",
       "      Model_used MeltWater_Fmean  MeltWater_Fmedian  MeltWater_F1sd  \\\n",
       "0       rhyolite        3.003497           3.046976        0.195208   \n",
       "1         dacite        3.007479           3.050916        0.190087   \n",
       "2  alkali basalt        4.227564           4.292241        0.366478   \n",
       "\n",
       "   MeltWater_Clmean  MeltWater_Clmedian  MeltWater_Cl1sd  \n",
       "0          3.011100            2.904564         0.690114  \n",
       "1          3.010041            2.908116         0.672337  \n",
       "2          4.274336            4.029978         1.213357  \n",
       "\n",
       "[3 rows x 21 columns]"
      ]
     },
     "execution_count": 18,
     "metadata": {},
     "output_type": "execute_result"
    }
   ],
   "source": [
    "df_all"
   ]
  },
  {
   "cell_type": "code",
   "execution_count": 19,
   "metadata": {},
   "outputs": [],
   "source": [
    "df_all.to_csv(\"outputs_melt_water_error.csv\")"
   ]
  }
 ],
 "metadata": {
  "kernelspec": {
   "display_name": "Python 3.8.5 ('base')",
   "language": "python",
   "name": "python3"
  },
  "language_info": {
   "codemirror_mode": {
    "name": "ipython",
    "version": 3
   },
   "file_extension": ".py",
   "mimetype": "text/x-python",
   "name": "python",
   "nbconvert_exporter": "python",
   "pygments_lexer": "ipython3",
   "version": "3.8.5"
  },
  "vscode": {
   "interpreter": {
    "hash": "567f84e64c80370d0be2865da5fab130ada5e27558a33e3ef552b38e670b6780"
   }
  }
 },
 "nbformat": 4,
 "nbformat_minor": 2
}
