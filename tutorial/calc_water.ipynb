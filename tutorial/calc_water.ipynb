{
 "cells": [
  {
   "cell_type": "markdown",
   "metadata": {},
   "source": [
    "# 1. Calculating apatite-melt exchange coefficients (Kd) and melt water concentration "
   ]
  },
  {
   "cell_type": "markdown",
   "metadata": {},
   "source": [
    "pyAp includes the melt hygrometry model (ApThermo) of Li and Costa (2020, GCA) with equations provided in ```pyApThermo.py```.\n",
    "\n",
    "Applying this model requires known F, Cl (and H$_{2}$O) concentrations in apatite, and the F and Cl concentrations in the melt (in equilibrium with apatite). \n",
    "\n",
    "This example file includes error estimation for the calculated water estimates using a monte carlo simuation algorithm, which is not available in our ApThermo webpage or excel versions.  \n",
    "\n",
    "Please cite Li and Costa (2020) if you use this model:\n",
    "\n",
    " Li, W. & Costa, F. (2020) A thermodynamic model for F-Cl-OH partitioning between apatite and melt including non-ideal mixing and applications to constraining melt volatile budgets, Geochimica et Cosmochimica Acta 269, 203–222. https://doi.org/10.1016/j.gca.2019.10.035"
   ]
  },
  {
   "cell_type": "markdown",
   "metadata": {},
   "source": [
    "### Import modules\n",
    "\n",
    "import releavant modules."
   ]
  },
  {
   "cell_type": "code",
   "execution_count": 1,
   "metadata": {},
   "outputs": [],
   "source": [
    "import pandas as pd, numpy as np, matplotlib.pyplot as plt, seaborn as sns\n",
    "import warnings    "
   ]
  },
  {
   "cell_type": "code",
   "execution_count": 2,
   "metadata": {},
   "outputs": [],
   "source": [
    "# Import pyAp modules\n",
    "from pyAp import pyApthermo\n",
    "from pyAp.pyAp_tools import ap_mc, load_animation"
   ]
  },
  {
   "cell_type": "markdown",
   "metadata": {},
   "source": [
    "### Import data\n",
    "\n",
    "!! Do NOT change the column headers in the template provided in the tutorial folder."
   ]
  },
  {
   "cell_type": "code",
   "execution_count": 3,
   "metadata": {},
   "outputs": [],
   "source": [
    "df = pd.read_excel('data_calc_water.xlsx')"
   ]
  },
  {
   "cell_type": "markdown",
   "metadata": {},
   "source": [
    "extract parameters from the input data file by reading columm header names"
   ]
  },
  {
   "cell_type": "code",
   "execution_count": 4,
   "metadata": {},
   "outputs": [],
   "source": [
    "order  = ['XF', 'XCL', 'T,C', 'MELTF', 'MELTCL', 'MELTCOMP']\n",
    "data = df[order]  "
   ]
  },
  {
   "cell_type": "markdown",
   "metadata": {},
   "source": [
    "### Calculate H$_{2}$O in the melt from F and Cl in the apatite\n",
    "\n",
    "The available water speciation models we have compiled are available in \"pyAp/water_speciation.csv\" and also implemented in `pyApThermo.py`. The existing models include:  \n",
    "    `dacite` (Liu et al. 2004)  \n",
    "    `alkali basalt` (Lasne et al. 2010)  \n",
    "    `rhyolite` (Zhang et al. 1997)  \n",
    "    `rhyolite_highP` (Hui et al. 2008)   \n",
    "    `andesite` (Ni et al. 2009)  \n",
    "    `andesite_highT` (Botcharnikov 2006).   \n",
    "If no model was selected, the default model will choose `dacite` of Liu et al. (2004)\n",
    "\n",
    "If you would like to use another water speciation model, please contact us.\n",
    "\n",
    "You can use a Dataframe `apply()` function shown below for iteration through each row in the input data. To perform the calculation, we assin the data as an instance into the `Apthermo` class.\n",
    "\n",
    "The water speciation model used in calculation is chosen from the available models according to the melt composition `MELTCOMP` column provided by users. To calculate the water concentration, you may switch `cal_H2O` to `True` (default is `False`), which will pass the data into `meltH2O()`. 8 results will be returned following the order as:  \n",
    "MeltWater calculated from F and Cl,  Kds for OH-Cl, OH-F, Cl-F, and activitivy coefficient (gamma) of OH, F, and Cl. \n",
    "\n",
    "Below we give the example of calculating melt water, and export the result to a csv file."
   ]
  },
  {
   "cell_type": "code",
   "execution_count": 5,
   "metadata": {},
   "outputs": [
    {
     "data": {
      "text/html": [
       "<div>\n",
       "<style scoped>\n",
       "    .dataframe tbody tr th:only-of-type {\n",
       "        vertical-align: middle;\n",
       "    }\n",
       "\n",
       "    .dataframe tbody tr th {\n",
       "        vertical-align: top;\n",
       "    }\n",
       "\n",
       "    .dataframe thead th {\n",
       "        text-align: right;\n",
       "    }\n",
       "</style>\n",
       "<table border=\"1\" class=\"dataframe\">\n",
       "  <thead>\n",
       "    <tr style=\"text-align: right;\">\n",
       "      <th></th>\n",
       "      <th>MeltWater_calcfromF</th>\n",
       "      <th>MeltWater_calcfromCl</th>\n",
       "      <th>sample</th>\n",
       "    </tr>\n",
       "  </thead>\n",
       "  <tbody>\n",
       "    <tr>\n",
       "      <th>0</th>\n",
       "      <td>4.327077</td>\n",
       "      <td>3.373130</td>\n",
       "      <td>Ap1</td>\n",
       "    </tr>\n",
       "    <tr>\n",
       "      <th>1</th>\n",
       "      <td>1.465439</td>\n",
       "      <td>1.336840</td>\n",
       "      <td>Ap2</td>\n",
       "    </tr>\n",
       "    <tr>\n",
       "      <th>2</th>\n",
       "      <td>0.673665</td>\n",
       "      <td>0.590161</td>\n",
       "      <td>Ap3</td>\n",
       "    </tr>\n",
       "  </tbody>\n",
       "</table>\n",
       "</div>"
      ],
      "text/plain": [
       "   MeltWater_calcfromF  MeltWater_calcfromCl sample\n",
       "0             4.327077              3.373130    Ap1\n",
       "1             1.465439              1.336840    Ap2\n",
       "2             0.673665              0.590161    Ap3"
      ]
     },
     "execution_count": 5,
     "metadata": {},
     "output_type": "execute_result"
    }
   ],
   "source": [
    "results = pd.DataFrame()\n",
    "list_result = data.apply(\n",
    "    lambda row: pyApthermo.ApThermo(inputs=row[order], cal_H2O=True,cal_gamma=False).meltH2O(),axis=1\n",
    "    )\n",
    "results['MeltWater_calcfromF']  = [x[0] for x in list_result]\n",
    "results['MeltWater_calcfromCl'] = [x[1] for x in list_result]\n",
    "results['sample']               = df['sample']\n",
    "\n",
    "results"
   ]
  },
  {
   "cell_type": "markdown",
   "metadata": {},
   "source": [
    "save the results"
   ]
  },
  {
   "cell_type": "code",
   "execution_count": 6,
   "metadata": {},
   "outputs": [],
   "source": [
    "fn = 'outputs_melt_water.csv'\n",
    "results.to_csv(fn)"
   ]
  },
  {
   "cell_type": "markdown",
   "metadata": {},
   "source": [
    "### Error integration from monte carlo simulation (MCS)\n",
    "\n",
    "Below we give an example for MCS to integrate analytical errors from melt compositions, apatite composition, and temperature.\n",
    "\n",
    "First, set the entry of MCS (number of runs); better to be larger than 1000."
   ]
  },
  {
   "cell_type": "code",
   "execution_count": 7,
   "metadata": {},
   "outputs": [],
   "source": [
    "mc = 1000"
   ]
  },
  {
   "cell_type": "markdown",
   "metadata": {},
   "source": [
    "Create dataframe for collecting MCS results and extract raw data and their errors"
   ]
  },
  {
   "cell_type": "code",
   "execution_count": 8,
   "metadata": {},
   "outputs": [],
   "source": [
    "ap_mc_collect = pd.DataFrame([])\n",
    "\n",
    "comp = df[['XF', 'XCL', 'T,C', 'MELTF', 'MELTCL']]\n",
    "std = df[['XF_SD', 'XCL_SD', 'T_SD','MELTF_SD', 'MELTCL_SD']]"
   ]
  },
  {
   "cell_type": "markdown",
   "metadata": {},
   "source": [
    "MCS can be perfromed via a loop but that can be rather slow if the dataset is large. \n",
    "\n",
    "Here we use a built-in function `ap_mc()` to vectorize and expand the existing empty dataframe `ap_mc_collect` with MCS results. \n",
    "\n",
    "Feel free to use your own MCS algorithm if you want. "
   ]
  },
  {
   "cell_type": "code",
   "execution_count": 9,
   "metadata": {},
   "outputs": [],
   "source": [
    "for idx in range(len(df)):\n",
    "    df_iter = ap_mc(comp, std, idx, mc)\n",
    "    ap_mc_collect = ap_mc_collect.append(df_iter)"
   ]
  },
  {
   "cell_type": "markdown",
   "metadata": {},
   "source": [
    "Apply the `meltH2O()` function to the expanded MCS dataframe. The melt water estimates are saved in the \"ap_mc_collect\" dataframe. \n",
    "\n",
    "Note that when MCS has a larger value, a runtime warning might appear, we suspended the warning by using `filterwarnings`. \n",
    "The calculated melt water compositions have been suspended to be lower than 16 (wt%)."
   ]
  },
  {
   "cell_type": "code",
   "execution_count": 10,
   "metadata": {},
   "outputs": [],
   "source": [
    "warnings.filterwarnings(\"ignore\")\n",
    "\n",
    "ap_mc_collect.columns = comp.columns\n",
    "ap_mc_collect['MELTCOMP'] = df.loc[df.index.repeat(mc)]['MELTCOMP']\n",
    "ap_mc_collect['water_estimates'] = ap_mc_collect.apply(\n",
    "    lambda row: pyApthermo.ApThermo(inputs=row[order], cal_H2O=True,cal_gamma=False).meltH2O(),axis=1\n",
    "    )\n",
    "ap_mc_collect['sample'] = df.loc[df.index.repeat(mc)]['sample']"
   ]
  },
  {
   "cell_type": "code",
   "execution_count": 11,
   "metadata": {},
   "outputs": [],
   "source": [
    "results_mc = pd.DataFrame()\n",
    "results_mc['MeltWater_calcfromF'] = [x[0] for x in ap_mc_collect['water_estimates']]   ## only take melt water estimates between 0 and 16wt%\n",
    "results_mc['MeltWater_calcfromCl'] = [x[1] for x in ap_mc_collect['water_estimates']]  ## only take melt water estimates between 0 and 16wt%\n",
    "results_mc['sample'] = ap_mc_collect.reset_index()['sample']"
   ]
  },
  {
   "cell_type": "markdown",
   "metadata": {},
   "source": [
    "Display MCS results for each crystal"
   ]
  },
  {
   "cell_type": "code",
   "execution_count": 12,
   "metadata": {},
   "outputs": [
    {
     "data": {
      "text/html": [
       "<div>\n",
       "<style scoped>\n",
       "    .dataframe tbody tr th:only-of-type {\n",
       "        vertical-align: middle;\n",
       "    }\n",
       "\n",
       "    .dataframe tbody tr th {\n",
       "        vertical-align: top;\n",
       "    }\n",
       "\n",
       "    .dataframe thead tr th {\n",
       "        text-align: left;\n",
       "    }\n",
       "\n",
       "    .dataframe thead tr:last-of-type th {\n",
       "        text-align: right;\n",
       "    }\n",
       "</style>\n",
       "<table border=\"1\" class=\"dataframe\">\n",
       "  <thead>\n",
       "    <tr>\n",
       "      <th></th>\n",
       "      <th colspan=\"3\" halign=\"left\">MeltWater_calcfromF</th>\n",
       "      <th colspan=\"3\" halign=\"left\">MeltWater_calcfromCl</th>\n",
       "    </tr>\n",
       "    <tr>\n",
       "      <th></th>\n",
       "      <th>median</th>\n",
       "      <th>mean</th>\n",
       "      <th>std</th>\n",
       "      <th>median</th>\n",
       "      <th>mean</th>\n",
       "      <th>std</th>\n",
       "    </tr>\n",
       "    <tr>\n",
       "      <th>sample</th>\n",
       "      <th></th>\n",
       "      <th></th>\n",
       "      <th></th>\n",
       "      <th></th>\n",
       "      <th></th>\n",
       "      <th></th>\n",
       "    </tr>\n",
       "  </thead>\n",
       "  <tbody>\n",
       "    <tr>\n",
       "      <th>Ap1</th>\n",
       "      <td>4.334804</td>\n",
       "      <td>4.359289</td>\n",
       "      <td>0.751088</td>\n",
       "      <td>3.383908</td>\n",
       "      <td>3.608093</td>\n",
       "      <td>1.262393</td>\n",
       "    </tr>\n",
       "    <tr>\n",
       "      <th>Ap2</th>\n",
       "      <td>1.459858</td>\n",
       "      <td>1.467147</td>\n",
       "      <td>0.234830</td>\n",
       "      <td>1.327742</td>\n",
       "      <td>1.403920</td>\n",
       "      <td>0.444818</td>\n",
       "    </tr>\n",
       "    <tr>\n",
       "      <th>Ap3</th>\n",
       "      <td>0.674094</td>\n",
       "      <td>0.675498</td>\n",
       "      <td>0.170753</td>\n",
       "      <td>0.590710</td>\n",
       "      <td>0.622649</td>\n",
       "      <td>0.240046</td>\n",
       "    </tr>\n",
       "  </tbody>\n",
       "</table>\n",
       "</div>"
      ],
      "text/plain": [
       "       MeltWater_calcfromF                     MeltWater_calcfromCl            \\\n",
       "                    median      mean       std               median      mean   \n",
       "sample                                                                          \n",
       "Ap1               4.334804  4.359289  0.751088             3.383908  3.608093   \n",
       "Ap2               1.459858  1.467147  0.234830             1.327742  1.403920   \n",
       "Ap3               0.674094  0.675498  0.170753             0.590710  0.622649   \n",
       "\n",
       "                  \n",
       "             std  \n",
       "sample            \n",
       "Ap1     1.262393  \n",
       "Ap2     0.444818  \n",
       "Ap3     0.240046  "
      ]
     },
     "execution_count": 12,
     "metadata": {},
     "output_type": "execute_result"
    }
   ],
   "source": [
    "results_mc.groupby('sample').agg(['median', 'mean', 'std'])"
   ]
  },
  {
   "cell_type": "markdown",
   "metadata": {},
   "source": [
    "Calculate the median value for each crystal. If the distribution of MCS results is (nearly) gaussian (see kernel density plot below), a mean value could be used instead of median."
   ]
  },
  {
   "cell_type": "code",
   "execution_count": 13,
   "metadata": {},
   "outputs": [],
   "source": [
    "median_F = results_mc.groupby('sample')['MeltWater_calcfromF'].median()\n",
    "median_Cl = results_mc.groupby('sample')['MeltWater_calcfromCl'].median()"
   ]
  },
  {
   "cell_type": "markdown",
   "metadata": {},
   "source": [
    "1sd errors in results are calculated by taking half of the range between 84% and 16% of all MCS results. "
   ]
  },
  {
   "cell_type": "code",
   "execution_count": 14,
   "metadata": {},
   "outputs": [],
   "source": [
    "sd_F = results_mc.groupby('sample')['MeltWater_calcfromF'].transform(lambda s: (np.percentile(s, 84)-np.percentile(s, 16))/2).unique()\n",
    "sd_Cl = results_mc.groupby('sample')['MeltWater_calcfromCl'].transform(lambda s: (np.percentile(s, 84)-np.percentile(s, 16))/2).unique()"
   ]
  },
  {
   "cell_type": "code",
   "execution_count": 15,
   "metadata": {},
   "outputs": [],
   "source": [
    "results['MeltWater_Fmedian']   = [x for x in median_F]\n",
    "results['MeltWater_F1sd']  = [x for x in sd_F]\n",
    "results['MeltWater_F_error,100%']  = results['MeltWater_F1sd']/results['MeltWater_Fmedian']*100\n",
    "\n",
    "results['MeltWater_Clmedian']  = [x for x in median_Cl]\n",
    "results['MeltWater_Cl1sd'] = [x for x in sd_Cl]\n",
    "results['MeltWater_Cl_error,100%']  = results['MeltWater_Cl1sd']/results['MeltWater_Clmedian']*100"
   ]
  },
  {
   "cell_type": "markdown",
   "metadata": {},
   "source": [
    "plot MCS results"
   ]
  },
  {
   "cell_type": "code",
   "execution_count": 16,
   "metadata": {},
   "outputs": [
    {
     "data": {
      "image/png": "[encoded data removed]",
      "text/plain": [
       "<Figure size 648x288 with 2 Axes>"
      ]
     },
     "metadata": {
      "needs_background": "light"
     },
     "output_type": "display_data"
    }
   ],
   "source": [
    "fig, axes = plt.subplots(1, 2, figsize=(9,4), constrained_layout=True)\n",
    "\n",
    "sns.kdeplot(x = 'MeltWater_calcfromF', data=results_mc, hue='sample', ax = axes[0])\n",
    "sns.kdeplot(x = 'MeltWater_calcfromCl', data=results_mc, hue='sample', ax = axes[1])\n",
    "\n",
    "plt.show()"
   ]
  }
 ],
 "metadata": {
  "interpreter": {
   "hash": "dbfc26f88d4be79d14d7fd08a335d9cb9196b9d1da0cd3f4e161d45a5650b80a"
  },
  "kernelspec": {
   "display_name": "Python 3.9.6 64-bit ('base': conda)",
   "language": "python",
   "name": "python3"
  },
  "language_info": {
   "codemirror_mode": {
    "name": "ipython",
    "version": 3
   },
   "file_extension": ".py",
   "mimetype": "text/x-python",
   "name": "python",
   "nbconvert_exporter": "python",
   "pygments_lexer": "ipython3",
   "version": "3.9.6"
  }
 },
 "nbformat": 4,
 "nbformat_minor": 2
}
