{
 "cells": [
  {
   "cell_type": "markdown",
   "metadata": {},
   "source": [
    "# 1. Calculating apatite-melt exchange coefficients (Kd) and melt water concentration "
   ]
  },
  {
   "cell_type": "markdown",
   "metadata": {},
   "source": [
    "pyAp contains a melt hygrometry model ApThermo, proposed in Li and Costa (2020, GCA) (see equations in ```pyApThermo.py```).\n",
    "\n",
    "This file shows how to calculate exchange coefficient (Kd) and melt water contents using our package. This package also allows error propagation that is not applicable from the webpage or excel version of ApThermo. Performing the hygrometric calculation requires known F, Cl (w or w/o H$_{2}$O concentrations in apatite, and F and Cl concentrations in the melt (see details below). \n",
    "\n",
    "Please cite the paper below if you use this model:\n",
    "\n",
    "Li, W. & Costa, F. (2020) A thermodynamic model for F-Cl-OH partitioning between apatite and melt including non-ideal mixing and applications to constraining melt volatile budgets, \n",
    "Geochimica et Cosmochimica Acta 269, 203–222. https://doi.org/10.1016/j.gca.2019.10.035"
   ]
  },
  {
   "cell_type": "markdown",
   "metadata": {},
   "source": [
    "## Import modules and data\n",
    "\n",
    "import releavant modules."
   ]
  },
  {
   "cell_type": "code",
   "execution_count": 1,
   "metadata": {},
   "outputs": [],
   "source": [
    "import pandas as pd, numpy as np, matplotlib.pyplot as plt, seaborn as sns\n",
    "from pyAp import pyApthermo\n",
    "from pyAp.pyAp_tools import ap_mc"
   ]
  },
  {
   "cell_type": "markdown",
   "metadata": {},
   "source": [
    "### Import data\n",
    "\n",
    "!! Do NOT change the column header names in the template excel file (provided in the same folder)."
   ]
  },
  {
   "cell_type": "code",
   "execution_count": 2,
   "metadata": {},
   "outputs": [],
   "source": [
    "df = pd.read_excel('data_calc_water.xlsx')"
   ]
  },
  {
   "cell_type": "markdown",
   "metadata": {},
   "source": [
    "Extract parameter values from the input file"
   ]
  },
  {
   "cell_type": "code",
   "execution_count": 3,
   "metadata": {},
   "outputs": [],
   "source": [
    "order  = ['XF', 'XCL', 'T,C', 'MELTF', 'MELTCL', 'MELTCOMP']\n",
    "data = df[order]  "
   ]
  },
  {
   "cell_type": "markdown",
   "metadata": {},
   "source": [
    "## Calculate H$_{2}$O in the melt using apatite"
   ]
  },
  {
   "cell_type": "markdown",
   "metadata": {},
   "source": [
    "### Water speciation models\n",
    "Water speciation models available in this package are shown in \"pyAp/water_speciation.csv\" and also in `pyApThermo.py`, including:  \n",
    "\n",
    "`dacite`            - Liu et al. 2004 \n",
    "\n",
    "`alkali basalt`     - Lasne et al. 2010  \n",
    "    \n",
    "`rhyolite`          - Zhang et al. 1997  \n",
    "    \n",
    "`rhyolite_highP`    - Hui et al. 2008     (1 GPa)\n",
    "    \n",
    "`andesite`          - Ni et al. 2009  \n",
    "    \n",
    "`andesite_highT`    - Botcharnikov 2006   (1100-1300 ºC)\n",
    "\n",
    "Note that model names filled in the input file (under `MELTCOMP`) should be exactly the same as those listed above. For example, \"dacite\" needs NOT to be written as \"Dacite\". \n",
    "When no model was input, the code would use the default one: `dacite` of Liu et al. (2004), DOI: 10.2138/am-2004-2-304\n",
    "\n",
    "Additional water speciation models could be added to `pyApThermo.py`. If you would like to discuss on this with us feel free to email Alex (wl413@cam.ac.uk). "
   ]
  },
  {
   "cell_type": "markdown",
   "metadata": {},
   "source": [
    "### Calculation\n",
    "\n",
    "You can use a Dataframe function `apply()` (see below) for iterations through each row of the input DataFrame. The data are assigned into class `Apthermo` for calculation. \n",
    "\n",
    "When `cal_H2O=True` (default), there will be 8 values calculated for each crystal following the order of: MeltWater calculated from F and Cl,  Kds for OH-Cl, OH-F, Cl-F, and activity coefficient (gamma) of OH, F, and Cl. \n",
    "\n",
    "When `cal_H2O=False`, there will be 6 values calculated for each crystal (Kds and gammas). \n"
   ]
  },
  {
   "cell_type": "code",
   "execution_count": 4,
   "metadata": {},
   "outputs": [
    {
     "data": {
      "text/html": [
       "<div>\n",
       "<style scoped>\n",
       "    .dataframe tbody tr th:only-of-type {\n",
       "        vertical-align: middle;\n",
       "    }\n",
       "\n",
       "    .dataframe tbody tr th {\n",
       "        vertical-align: top;\n",
       "    }\n",
       "\n",
       "    .dataframe thead th {\n",
       "        text-align: right;\n",
       "    }\n",
       "</style>\n",
       "<table border=\"1\" class=\"dataframe\">\n",
       "  <thead>\n",
       "    <tr style=\"text-align: right;\">\n",
       "      <th></th>\n",
       "      <th>MeltWater_calcfromF</th>\n",
       "      <th>MeltWater_calcfromCl</th>\n",
       "      <th>sample</th>\n",
       "    </tr>\n",
       "  </thead>\n",
       "  <tbody>\n",
       "    <tr>\n",
       "      <th>0</th>\n",
       "      <td>4.327077</td>\n",
       "      <td>3.373130</td>\n",
       "      <td>Ap1</td>\n",
       "    </tr>\n",
       "    <tr>\n",
       "      <th>1</th>\n",
       "      <td>1.465439</td>\n",
       "      <td>1.336840</td>\n",
       "      <td>Ap2</td>\n",
       "    </tr>\n",
       "    <tr>\n",
       "      <th>2</th>\n",
       "      <td>0.673665</td>\n",
       "      <td>0.590161</td>\n",
       "      <td>Ap3</td>\n",
       "    </tr>\n",
       "  </tbody>\n",
       "</table>\n",
       "</div>"
      ],
      "text/plain": [
       "   MeltWater_calcfromF  MeltWater_calcfromCl sample\n",
       "0             4.327077              3.373130    Ap1\n",
       "1             1.465439              1.336840    Ap2\n",
       "2             0.673665              0.590161    Ap3"
      ]
     },
     "execution_count": 4,
     "metadata": {},
     "output_type": "execute_result"
    }
   ],
   "source": [
    "results = pd.DataFrame()\n",
    "list_result = data.apply(\n",
    "    lambda row: pyApthermo.ApThermo(inputs=row[order], cal_H2O=True,cal_gamma=False).meltH2O(),axis=1\n",
    "    )\n",
    "results['MeltWater_calcfromF']  = [x[0] for x in list_result]\n",
    "results['MeltWater_calcfromCl'] = [x[1] for x in list_result]\n",
    "results['sample']               = df['sample']\n",
    "\n",
    "results"
   ]
  },
  {
   "cell_type": "markdown",
   "metadata": {},
   "source": [
    "### Save results (to csv file)"
   ]
  },
  {
   "cell_type": "code",
   "execution_count": 5,
   "metadata": {},
   "outputs": [],
   "source": [
    "fn = 'outputs_melt_water.csv'\n",
    "results.to_csv(fn)"
   ]
  },
  {
   "cell_type": "markdown",
   "metadata": {},
   "source": [
    "## Error integration using a monte carlo (MC) algorithm\n",
    "\n",
    "Below we show an example of estimating errors in the melt water estimates given errors in apatite composition, melt F-Cl contents, and temperature.\n",
    "\n",
    "First, set the number of MC sampling (better to be larger than 1000)"
   ]
  },
  {
   "cell_type": "code",
   "execution_count": 6,
   "metadata": {},
   "outputs": [],
   "source": [
    "mc = 1000"
   ]
  },
  {
   "cell_type": "markdown",
   "metadata": {},
   "source": [
    "### Create a dataframe for storing parameter values and results from MC sampling"
   ]
  },
  {
   "cell_type": "code",
   "execution_count": 7,
   "metadata": {},
   "outputs": [],
   "source": [
    "ap_mc_collect = pd.DataFrame()\n",
    "\n",
    "comp = df[['XF', 'XCL', 'T,C', 'MELTF', 'MELTCL']]\n",
    "std = df[['XF_SD', 'XCL_SD', 'T_SD','MELTF_SD', 'MELTCL_SD']]"
   ]
  },
  {
   "cell_type": "markdown",
   "metadata": {},
   "source": [
    "Use function `ap_mc()` to vectorize and store values to the created empty dataframe `ap_mc_collect` "
   ]
  },
  {
   "cell_type": "code",
   "execution_count": 8,
   "metadata": {},
   "outputs": [],
   "source": [
    "for idx in range(len(df)):\n",
    "    df_iter = ap_mc(comp, std, idx, mc)\n",
    "    ap_mc_collect = ap_mc_collect.append(df_iter)"
   ]
  },
  {
   "cell_type": "markdown",
   "metadata": {},
   "source": [
    "### Calculate melt water contents using MC samples and function `meltH2O()` in module `pyApthermo`. \n",
    "\n",
    "Note that `warnings.warn(msg, RuntimeWarning`) may appear if the code cannot find good solutions to some equations (in most cases because the calculated mole OH in the melt is too high). \n",
    "\n",
    "Considering this, in the module code we set the limit of the calculated melt water concentration to be between 0 and 15 wt% (given the range of H$_{2}$O in most silicate melts)."
   ]
  },
  {
   "cell_type": "code",
   "execution_count": 9,
   "metadata": {},
   "outputs": [
    {
     "name": "stderr",
     "output_type": "stream",
     "text": [
      "/Users/alexweiranli/opt/anaconda3/lib/python3.8/site-packages/scipy/optimize/minpack.py:175: RuntimeWarning: The iteration is not making good progress, as measured by the \n",
      "  improvement from the last ten iterations.\n",
      "  warnings.warn(msg, RuntimeWarning)\n"
     ]
    }
   ],
   "source": [
    "ap_mc_collect.columns = comp.columns\n",
    "ap_mc_collect['MELTCOMP'] = df.loc[df.index.repeat(mc)]['MELTCOMP']\n",
    "ap_mc_collect['water_estimates'] = ap_mc_collect.apply(\n",
    "    lambda row: pyApthermo.ApThermo(inputs=row[order], cal_H2O=True,cal_gamma=False).meltH2O(),axis=1\n",
    "    )\n",
    "ap_mc_collect['sample'] = df.loc[df.index.repeat(mc)]['sample']"
   ]
  },
  {
   "cell_type": "code",
   "execution_count": 10,
   "metadata": {},
   "outputs": [],
   "source": [
    "results_mc = pd.DataFrame()\n",
    "results_mc['MeltWater_calcfromF'] = [x[0] for x in ap_mc_collect['water_estimates']]   ## only take melt water estimates between 0 and 16wt%\n",
    "results_mc['MeltWater_calcfromCl'] = [x[1] for x in ap_mc_collect['water_estimates']]  ## only take melt water estimates between 0 and 16wt%\n",
    "results_mc['sample'] = ap_mc_collect.reset_index()['sample']"
   ]
  },
  {
   "cell_type": "markdown",
   "metadata": {},
   "source": [
    "### Calculate mean values and uncertainties \n",
    "\n",
    "Calculate and show the mean and standard deviation of the melt water estimates. The median values can also be shown by adding \"median\" to `.agg([])` below. "
   ]
  },
  {
   "cell_type": "code",
   "execution_count": 11,
   "metadata": {},
   "outputs": [],
   "source": [
    "res = results_mc.groupby('sample').agg(['mean', 'std'])"
   ]
  },
  {
   "cell_type": "markdown",
   "metadata": {},
   "source": [
    "Calculate standard deviation (half the range between 84% and 16% of all results). This is should be done if the distribution of the MC results are not Gaussian (see code below)."
   ]
  },
  {
   "cell_type": "code",
   "execution_count": 12,
   "metadata": {},
   "outputs": [],
   "source": [
    "sd_F = results_mc.groupby('sample')['MeltWater_calcfromF'].transform(lambda s: (np.percentile(s, 84)-np.percentile(s, 16))/2).unique()\n",
    "sd_Cl = results_mc.groupby('sample')['MeltWater_calcfromCl'].transform(lambda s: (np.percentile(s, 84)-np.percentile(s, 16))/2).unique()"
   ]
  },
  {
   "cell_type": "markdown",
   "metadata": {},
   "source": [
    "### Store results in DataFrame `results`"
   ]
  },
  {
   "cell_type": "code",
   "execution_count": 13,
   "metadata": {},
   "outputs": [],
   "source": [
    "results['MeltWater_Fmean']   =  [x for x in res[\"MeltWater_calcfromF\"][\"mean\"]]\n",
    "results['MeltWater_Fstd']   =  [x for x in res[\"MeltWater_calcfromF\"][\"std\"]]\n",
    "results['MeltWater_F1sd']  = [x for x in sd_F]\n",
    "# # results['MeltWater_F_error,100%']  = results['MeltWater_F1sd']/results['MeltWater_Fmedian']*100\n",
    "\n",
    "results['MeltWater_Clmean']  = [x for x in res[\"MeltWater_calcfromCl\"][\"mean\"]]\n",
    "results['MeltWater_Clstd']  = [x for x in res[\"MeltWater_calcfromCl\"][\"std\"]]\n",
    "results['MeltWater_Cl1sd'] = [x for x in sd_Cl]\n",
    "# results['MeltWater_Cl_error,100%']  = results['MeltWater_Cl1sd']/results['MeltWater_Clmedian']*100\n"
   ]
  },
  {
   "cell_type": "markdown",
   "metadata": {},
   "source": [
    "`results`: values in the leftmost two columns were calculated without considering any errors (see above), whereas the rest were calculated using the MC algorithm. \n",
    "\n",
    "Note that the mean values calculated from the two methods mentioned above should be identical. "
   ]
  },
  {
   "cell_type": "code",
   "execution_count": 14,
   "metadata": {},
   "outputs": [
    {
     "data": {
      "text/html": [
       "<div>\n",
       "<style scoped>\n",
       "    .dataframe tbody tr th:only-of-type {\n",
       "        vertical-align: middle;\n",
       "    }\n",
       "\n",
       "    .dataframe tbody tr th {\n",
       "        vertical-align: top;\n",
       "    }\n",
       "\n",
       "    .dataframe thead th {\n",
       "        text-align: right;\n",
       "    }\n",
       "</style>\n",
       "<table border=\"1\" class=\"dataframe\">\n",
       "  <thead>\n",
       "    <tr style=\"text-align: right;\">\n",
       "      <th></th>\n",
       "      <th>MeltWater_calcfromF</th>\n",
       "      <th>MeltWater_calcfromCl</th>\n",
       "      <th>sample</th>\n",
       "      <th>MeltWater_Fmean</th>\n",
       "      <th>MeltWater_Fstd</th>\n",
       "      <th>MeltWater_F1sd</th>\n",
       "      <th>MeltWater_Clmean</th>\n",
       "      <th>MeltWater_Clstd</th>\n",
       "      <th>MeltWater_Cl1sd</th>\n",
       "    </tr>\n",
       "  </thead>\n",
       "  <tbody>\n",
       "    <tr>\n",
       "      <th>0</th>\n",
       "      <td>4.327077</td>\n",
       "      <td>3.373130</td>\n",
       "      <td>Ap1</td>\n",
       "      <td>4.374950</td>\n",
       "      <td>0.777409</td>\n",
       "      <td>0.797939</td>\n",
       "      <td>3.631038</td>\n",
       "      <td>1.297683</td>\n",
       "      <td>NaN</td>\n",
       "    </tr>\n",
       "    <tr>\n",
       "      <th>1</th>\n",
       "      <td>1.465439</td>\n",
       "      <td>1.336840</td>\n",
       "      <td>Ap2</td>\n",
       "      <td>1.473224</td>\n",
       "      <td>0.236079</td>\n",
       "      <td>0.240841</td>\n",
       "      <td>1.414048</td>\n",
       "      <td>0.441805</td>\n",
       "      <td>0.410122</td>\n",
       "    </tr>\n",
       "    <tr>\n",
       "      <th>2</th>\n",
       "      <td>0.673665</td>\n",
       "      <td>0.590161</td>\n",
       "      <td>Ap3</td>\n",
       "      <td>0.671285</td>\n",
       "      <td>0.172851</td>\n",
       "      <td>0.183978</td>\n",
       "      <td>0.617477</td>\n",
       "      <td>0.239828</td>\n",
       "      <td>0.241775</td>\n",
       "    </tr>\n",
       "  </tbody>\n",
       "</table>\n",
       "</div>"
      ],
      "text/plain": [
       "   MeltWater_calcfromF  MeltWater_calcfromCl sample  MeltWater_Fmean  \\\n",
       "0             4.327077              3.373130    Ap1         4.374950   \n",
       "1             1.465439              1.336840    Ap2         1.473224   \n",
       "2             0.673665              0.590161    Ap3         0.671285   \n",
       "\n",
       "   MeltWater_Fstd  MeltWater_F1sd  MeltWater_Clmean  MeltWater_Clstd  \\\n",
       "0        0.777409        0.797939          3.631038         1.297683   \n",
       "1        0.236079        0.240841          1.414048         0.441805   \n",
       "2        0.172851        0.183978          0.617477         0.239828   \n",
       "\n",
       "   MeltWater_Cl1sd  \n",
       "0              NaN  \n",
       "1         0.410122  \n",
       "2         0.241775  "
      ]
     },
     "execution_count": 14,
     "metadata": {},
     "output_type": "execute_result"
    }
   ],
   "source": [
    "results"
   ]
  },
  {
   "cell_type": "markdown",
   "metadata": {},
   "source": [
    "### Plot results obtained from MC sampling"
   ]
  },
  {
   "cell_type": "code",
   "execution_count": 15,
   "metadata": {},
   "outputs": [
    {
     "data": {
      "image/png": "[encoded data removed]",
      "text/plain": [
       "<Figure size 648x288 with 2 Axes>"
      ]
     },
     "metadata": {
      "needs_background": "light"
     },
     "output_type": "display_data"
    }
   ],
   "source": [
    "fig, axes = plt.subplots(1, 2, figsize=(9,4), constrained_layout=True)\n",
    "\n",
    "sns.kdeplot(x = 'MeltWater_calcfromF', data=results_mc, hue='sample', ax = axes[0])\n",
    "sns.kdeplot(x = 'MeltWater_calcfromCl', data=results_mc, hue='sample', ax = axes[1])\n",
    "\n",
    "plt.show()\n",
    "\n",
    "# fig.save_fig('water_kde.jpg')"
   ]
  },
  {
   "cell_type": "code",
   "execution_count": null,
   "metadata": {},
   "outputs": [],
   "source": []
  }
 ],
 "metadata": {
  "interpreter": {
   "hash": "dbfc26f88d4be79d14d7fd08a335d9cb9196b9d1da0cd3f4e161d45a5650b80a"
  },
  "kernelspec": {
   "display_name": "Python 3.9.6 64-bit ('base': conda)",
   "language": "python",
   "name": "python3"
  },
  "language_info": {
   "codemirror_mode": {
    "name": "ipython",
    "version": 3
   },
   "file_extension": ".py",
   "mimetype": "text/x-python",
   "name": "python",
   "nbconvert_exporter": "python",
   "pygments_lexer": "ipython3",
   "version": "3.8.5"
  }
 },
 "nbformat": 4,
 "nbformat_minor": 2
}
